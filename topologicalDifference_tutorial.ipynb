{
 "cells": [
  {
   "cell_type": "markdown",
   "metadata": {},
   "source": [
    "# Topological Uncertainty and Topological Difference"
   ]
  },
  {
   "cell_type": "markdown",
   "metadata": {},
   "source": [
    "Authors: Théo Lacombe, Felix Hensel"
   ]
  },
  {
   "cell_type": "markdown",
   "metadata": {},
   "source": [
    "**Goal:** This notebook presents ways to use Topological Uncertainty (TU) and Topological Difference (TD) on (sequential, tensorflow) neural networks on toy examples. It also shows how to reproduce the OOD-detection experiment described in the [reference paper](https://hal.archives-ouvertes.fr/hal-03213188/document) with graph datasets."
   ]
  },
  {
   "cell_type": "markdown",
   "metadata": {},
   "source": [
    "Dependecies: the current code was tested on Ubuntu 20, with the following libraries:\n",
    "- `Python 3.8` *\n",
    "- `Tensorflow 2.4` *  (backend for neural networks architectures)\n",
    "- `gudhi 3.3.0` *  (used to store activation graphs and compute MST/diagrams on top of them)\n",
    "- `numpy 1.20.2` *\n",
    "- `matplotlib 3.3.2`\n",
    "- `pandas 1.2.4`  (used to store features computed from MUTAG and COX2)\n",
    "\n",
    "Note: * mark librairies that are intrinsiquely related to computing topological uncertainty (contrary to, for instance, `matplotlib` or `pandas` that are used for visualization).\n",
    "\n",
    "You need to install them (preferrably in a dedicated conda env) before running the code."
   ]
  },
  {
   "cell_type": "markdown",
   "metadata": {},
   "source": [
    "### Imports libraries"
   ]
  },
  {
   "cell_type": "code",
   "execution_count": 1,
   "metadata": {},
   "outputs": [],
   "source": [
    "%matplotlib inline\n",
    "%load_ext autoreload\n",
    "%autoreload 2"
   ]
  },
  {
   "cell_type": "markdown",
   "metadata": {},
   "source": [
    "Import from external libraries."
   ]
  },
  {
   "cell_type": "code",
   "execution_count": 2,
   "metadata": {},
   "outputs": [],
   "source": [
    "import numpy as np\n",
    "import matplotlib.pylab as plt"
   ]
  },
  {
   "cell_type": "markdown",
   "metadata": {},
   "source": [
    "Import our implementation to compute topological uncertainty"
   ]
  },
  {
   "cell_type": "code",
   "execution_count": 3,
   "metadata": {},
   "outputs": [
    {
     "name": "stderr",
     "output_type": "stream",
     "text": [
      "2022-02-16 18:47:57.748517: W tensorflow/stream_executor/platform/default/dso_loader.cc:64] Could not load dynamic library 'libcudart.so.11.0'; dlerror: libcudart.so.11.0: cannot open shared object file: No such file or directory\n",
      "2022-02-16 18:47:57.748531: I tensorflow/stream_executor/cuda/cudart_stub.cc:29] Ignore above cudart dlerror if you do not have a GPU set up on your machine.\n"
     ]
    }
   ],
   "source": [
    "import utils.utils_graphs as ug\n",
    "import utils.utils_notebook as unb\n",
    "import utils.utils_tda as utda"
   ]
  },
  {
   "cell_type": "markdown",
   "metadata": {},
   "source": [
    "Graphs datasets (`MUTAG`, `COX2`, and their `Fake-` counterparts) are stored as `.mat` files, located in the `./%s/mat/` folder, where `%s` is the dataset name. Spectral features are computed on top of graphs and are provided in the `./%s/%s.csv` files (see at the end of the notebook if you want to rebuild Fake datasets and graphs features)."
   ]
  },
  {
   "cell_type": "markdown",
   "metadata": {},
   "source": [
    "# 1.Topological uncertainty from graphs directly"
   ]
  },
  {
   "cell_type": "markdown",
   "metadata": {},
   "source": [
    "## 1.1 Preliminary remarks"
   ]
  },
  {
   "cell_type": "markdown",
   "metadata": {},
   "source": [
    "Extracting topological information from graphs using our technique can be done in a fairly general setting, not restricted to activation graphs of neural networks. \n",
    "\n",
    "Below, we show how you can extract persistence diagrams from graphs using a method `diag_from_numpy_array` in the `utils.utils_tda` module. Diagrams can then be compared using the method `wasserstein_distance_1D` (in the same file)."
   ]
  },
  {
   "cell_type": "code",
   "execution_count": 4,
   "metadata": {},
   "outputs": [
    {
     "name": "stdout",
     "output_type": "stream",
     "text": [
      "shape of our adjancency matrix: (275, 275)\n"
     ]
    }
   ],
   "source": [
    "# Preliminary example : diagram from a random adjacency matrix. \n",
    "n = 275  # number of point in the graph\n",
    "A = unb.sample_adjancency_matrix(n=275)\n",
    "print(\"shape of our adjancency matrix:\", A.shape)"
   ]
  },
  {
   "cell_type": "code",
   "execution_count": 5,
   "metadata": {},
   "outputs": [
    {
     "name": "stdout",
     "output_type": "stream",
     "text": [
      "shape of the resulting diagram: (274,)\n"
     ]
    }
   ],
   "source": [
    "# We compute its diagram using Gudhi\n",
    "dgm = utda.diag_from_numpy_array(A)\n",
    "print(\"shape of the resulting diagram:\", dgm.shape)"
   ]
  },
  {
   "cell_type": "markdown",
   "metadata": {},
   "source": [
    "Now we build another random adjacency matrix, its diagram, and compute the distance between the two diagrams."
   ]
  },
  {
   "cell_type": "code",
   "execution_count": 6,
   "metadata": {},
   "outputs": [],
   "source": [
    "A2 = unb.sample_adjancency_matrix(n=275)"
   ]
  },
  {
   "cell_type": "code",
   "execution_count": 7,
   "metadata": {},
   "outputs": [],
   "source": [
    "dgm2 = utda.diag_from_numpy_array(A2)"
   ]
  },
  {
   "cell_type": "code",
   "execution_count": 8,
   "metadata": {},
   "outputs": [
    {
     "name": "stdout",
     "output_type": "stream",
     "text": [
      "distance between the two diagrams: 0.00021599736729652135\n"
     ]
    }
   ],
   "source": [
    "print(\"distance between the two diagrams:\", utda.wasserstein_distance_1D(dgm, dgm2))"
   ]
  },
  {
   "cell_type": "markdown",
   "metadata": {},
   "source": [
    "## 1.2 Illustration on a set of graphs"
   ]
  },
  {
   "cell_type": "markdown",
   "metadata": {},
   "source": [
    "Topological uncertainty consists of comparing a new observation (in our case a new graph) with respect to a sample of reference graphs.\n",
    "The average topology of our sample of training graphs will be summarized through the _Fréchet mean_ (a.k.a barycenter) of the corresponding diagrams, which can be computed using `utils.utils_tda.wasserstein_barycenter_1D`. \n",
    "\n",
    "For illustrative purpose, the graphs we sample come from point clouds of different shape (with fixed cardinality): our \"reference samples\" come from points sampled on a clean circle. Our new observations consist of circles with addition of some noise, where the noise amplitude progressively increases."
   ]
  },
  {
   "cell_type": "code",
   "execution_count": 9,
   "metadata": {},
   "outputs": [],
   "source": [
    "# Build set of graphs/point clouds.\n",
    "nb_reference_graph = 500\n",
    "nb_points = 100\n",
    "radius = 1\n",
    "circles = np.array([unb.sample_circle(n=nb_points, r=radius, noise=0) for _ in range(nb_reference_graph)])"
   ]
  },
  {
   "cell_type": "code",
   "execution_count": 10,
   "metadata": {},
   "outputs": [],
   "source": [
    "# Now turn these point clouds into diagrams\n",
    "diags = [utda.diag_from_point_cloud(C) for C in circles]"
   ]
  },
  {
   "cell_type": "code",
   "execution_count": 11,
   "metadata": {},
   "outputs": [],
   "source": [
    "# And finally compute the barycenter of these reference diagrams:\n",
    "barycenter = utda.wasserstein_barycenter_1D(diags)"
   ]
  },
  {
   "cell_type": "code",
   "execution_count": 12,
   "metadata": {},
   "outputs": [],
   "source": [
    "# Now we sample noisy circles, for increasing noise level ; and compute their respective diagrams.\n",
    "# Note: these noisy circles must have the same number of points as the clean ones \n",
    "#       (graph combinatorics should remain unchanged).\n",
    "\n",
    "sigmas = np.linspace(0.1, 2*radius, 5)\n",
    "nb_noisy_cirlce_per_noise_level = 500\n",
    "\n",
    "# Sample the noisy circles for various noise level sigma\n",
    "noisy_circles = np.array([[unb.sample_circle(n=nb_points, r=radius, noise=sigma) \n",
    "                  for _ in range(nb_noisy_cirlce_per_noise_level)] \n",
    "                 for sigma in sigmas])\n",
    "\n",
    "# Compute their diagrams\n",
    "diags_of_noisy_circles = [[utda.diag_from_point_cloud(C) for C in circles_noise_sigma] \n",
    "                          for circles_noise_sigma in noisy_circles]"
   ]
  },
  {
   "cell_type": "markdown",
   "metadata": {},
   "source": [
    "Let us visualize all of these."
   ]
  },
  {
   "cell_type": "code",
   "execution_count": 13,
   "metadata": {},
   "outputs": [
    {
     "data": {
      "image/png": "[encoded data removed]",
      "text/plain": [
       "<Figure size 1440x360 with 25 Axes>"
      ]
     },
     "metadata": {
      "needs_background": "light"
     },
     "output_type": "display_data"
    }
   ],
   "source": [
    "unb.visu_notebook(circles, diags, barycenter, noisy_circles, diags_of_noisy_circles, sigmas)"
   ]
  },
  {
   "cell_type": "markdown",
   "metadata": {},
   "source": [
    "Intuitively, the noisier the circle, the more different the distance between its diagram and the average diagram we obtained from our clean circles. \n",
    "The distance between the diagram of a new observation and a Fréchet mean is called the _Topological Uncertainty_ (TU) of this new observation. A large TU - with respect to distance from reference diagrams to the Fréchet mean - is likely to account for anomalies/shift in the distribution/etc."
   ]
  },
  {
   "cell_type": "markdown",
   "metadata": {},
   "source": [
    "First, we compute the distance between our reference diagrams (those obtained from clean circles) and their Fréchet mean. This can be understood as a notion of variance for the training set."
   ]
  },
  {
   "cell_type": "code",
   "execution_count": 14,
   "metadata": {},
   "outputs": [],
   "source": [
    "distrib_TU_clean = np.array([utda.wasserstein_distance_1D(dgm, barycenter) for dgm in diags])"
   ]
  },
  {
   "cell_type": "markdown",
   "metadata": {},
   "source": [
    "Now we do the same for the diagrams coming from noisy circles (for each noise level $\\sigma$)."
   ]
  },
  {
   "cell_type": "code",
   "execution_count": 15,
   "metadata": {},
   "outputs": [],
   "source": [
    "distrib_TU_noisy = np.array([[utda.wasserstein_distance_1D(dgm, barycenter) for dgm in dgm_noise_sigma]\n",
    "                            for dgm_noise_sigma in diags_of_noisy_circles])"
   ]
  },
  {
   "cell_type": "markdown",
   "metadata": {},
   "source": [
    "Let us visualize these two distributions"
   ]
  },
  {
   "cell_type": "code",
   "execution_count": 16,
   "metadata": {},
   "outputs": [
    {
     "data": {
      "image/png": "[encoded data removed]",
      "text/plain": [
       "<Figure size 432x288 with 1 Axes>"
      ]
     },
     "metadata": {
      "needs_background": "light"
     },
     "output_type": "display_data"
    }
   ],
   "source": [
    "unb.plot_TU_circles(distrib_TU_clean, distrib_TU_noisy, sigmas)"
   ]
  },
  {
   "cell_type": "markdown",
   "metadata": {},
   "source": [
    "As one can see, the larger the $\\sigma$, the further the diagrams are from the barycenter one. Shift in the distribution can easily be detected this way!"
   ]
  },
  {
   "cell_type": "markdown",
   "metadata": {},
   "source": [
    "# 2. Topological uncertainty on tensorflow neural network"
   ]
  },
  {
   "cell_type": "markdown",
   "metadata": {},
   "source": [
    "For this section, you need `tensorflow 2` installed."
   ]
  },
  {
   "cell_type": "code",
   "execution_count": 17,
   "metadata": {},
   "outputs": [],
   "source": [
    "import tensorflow as tf"
   ]
  },
  {
   "cell_type": "markdown",
   "metadata": {},
   "source": [
    "## 2.1 A First example"
   ]
  },
  {
   "cell_type": "markdown",
   "metadata": {},
   "source": [
    "We briefly show how you can use TU on a simple tensorflow sequential network. We showcase this using the MNIST dataset."
   ]
  },
  {
   "cell_type": "code",
   "execution_count": 18,
   "metadata": {},
   "outputs": [],
   "source": [
    "mnist = tf.keras.datasets.mnist\n",
    "\n",
    "(x_train, y_train), (x_test, y_test) = mnist.load_data()\n",
    "x_train = x_train / 255.0\n",
    "x_train = x_train.reshape(len(x_train), 784)\n",
    "\n",
    "x_test = x_test / 255.0\n",
    "x_test = x_test.reshape(len(x_test), 784)\n",
    "\n",
    "labels = np.unique(y_train)\n",
    "nlabels = len(labels)"
   ]
  },
  {
   "cell_type": "markdown",
   "metadata": {},
   "source": [
    "We know build a tensorflow model with 2 hidden layers with 64 and 16 units, respectively."
   ]
  },
  {
   "cell_type": "code",
   "execution_count": 19,
   "metadata": {},
   "outputs": [
    {
     "name": "stdout",
     "output_type": "stream",
     "text": [
      "Model: \"sequential\"\n",
      "_________________________________________________________________\n",
      " Layer (type)                Output Shape              Param #   \n",
      "=================================================================\n",
      " dense (Dense)               (None, 64)                50240     \n",
      "                                                                 \n",
      " dense_1 (Dense)             (None, 16)                1040      \n",
      "                                                                 \n",
      " dense_2 (Dense)             (None, 10)                170       \n",
      "                                                                 \n",
      "=================================================================\n",
      "Total params: 51,450\n",
      "Trainable params: 51,450\n",
      "Non-trainable params: 0\n",
      "_________________________________________________________________\n"
     ]
    },
    {
     "name": "stderr",
     "output_type": "stream",
     "text": [
      "2022-02-16 18:48:03.135020: I tensorflow/stream_executor/cuda/cuda_gpu_executor.cc:936] successful NUMA node read from SysFS had negative value (-1), but there must be at least one NUMA node, so returning NUMA node zero\n",
      "2022-02-16 18:48:03.135785: W tensorflow/stream_executor/platform/default/dso_loader.cc:64] Could not load dynamic library 'libcudart.so.11.0'; dlerror: libcudart.so.11.0: cannot open shared object file: No such file or directory\n",
      "2022-02-16 18:48:03.135855: W tensorflow/stream_executor/platform/default/dso_loader.cc:64] Could not load dynamic library 'libcublas.so.11'; dlerror: libcublas.so.11: cannot open shared object file: No such file or directory\n",
      "2022-02-16 18:48:03.135913: W tensorflow/stream_executor/platform/default/dso_loader.cc:64] Could not load dynamic library 'libcublasLt.so.11'; dlerror: libcublasLt.so.11: cannot open shared object file: No such file or directory\n",
      "2022-02-16 18:48:03.135971: W tensorflow/stream_executor/platform/default/dso_loader.cc:64] Could not load dynamic library 'libcufft.so.10'; dlerror: libcufft.so.10: cannot open shared object file: No such file or directory\n",
      "2022-02-16 18:48:03.136025: W tensorflow/stream_executor/platform/default/dso_loader.cc:64] Could not load dynamic library 'libcurand.so.10'; dlerror: libcurand.so.10: cannot open shared object file: No such file or directory\n",
      "2022-02-16 18:48:03.136085: W tensorflow/stream_executor/platform/default/dso_loader.cc:64] Could not load dynamic library 'libcusolver.so.11'; dlerror: libcusolver.so.11: cannot open shared object file: No such file or directory\n",
      "2022-02-16 18:48:03.136222: W tensorflow/stream_executor/platform/default/dso_loader.cc:64] Could not load dynamic library 'libcusparse.so.11'; dlerror: libcusparse.so.11: cannot open shared object file: No such file or directory\n",
      "2022-02-16 18:48:03.136282: W tensorflow/stream_executor/platform/default/dso_loader.cc:64] Could not load dynamic library 'libcudnn.so.8'; dlerror: libcudnn.so.8: cannot open shared object file: No such file or directory\n",
      "2022-02-16 18:48:03.136295: W tensorflow/core/common_runtime/gpu/gpu_device.cc:1850] Cannot dlopen some GPU libraries. Please make sure the missing libraries mentioned above are installed properly if you would like to use GPU. Follow the guide at https://www.tensorflow.org/install/gpu for how to download and setup the required libraries for your platform.\n",
      "Skipping registering GPU devices...\n",
      "2022-02-16 18:48:03.137168: I tensorflow/core/platform/cpu_feature_guard.cc:151] This TensorFlow binary is optimized with oneAPI Deep Neural Network Library (oneDNN) to use the following CPU instructions in performance-critical operations:  AVX2 AVX512F FMA\n",
      "To enable them in other operations, rebuild TensorFlow with the appropriate compiler flags.\n"
     ]
    }
   ],
   "source": [
    "model = tf.keras.models.Sequential([\n",
    "    tf.keras.layers.Dense(64, activation='relu', input_shape=[x_train.shape[1]]),\n",
    "    tf.keras.layers.Dense(16, activation='relu'),\n",
    "    tf.keras.layers.Dense(nlabels, activation='softmax'),\n",
    "])\n",
    "loss_fn = tf.keras.losses.SparseCategoricalCrossentropy(from_logits=True)\n",
    "optimizer='adam'\n",
    "model.summary()"
   ]
  },
  {
   "cell_type": "markdown",
   "metadata": {},
   "source": [
    "Now we compile and train the model. It should easily reach ~ 98% of (training) accuracy."
   ]
  },
  {
   "cell_type": "code",
   "execution_count": 20,
   "metadata": {},
   "outputs": [
    {
     "name": "stdout",
     "output_type": "stream",
     "text": [
      "Epoch 1/10\n"
     ]
    },
    {
     "name": "stderr",
     "output_type": "stream",
     "text": [
      "/home/felix/.cache/pypoetry/virtualenvs/topologicaluncertainty-FuTyNJF2-py3.9/lib/python3.9/site-packages/tensorflow/python/util/dispatch.py:1082: UserWarning: \"`sparse_categorical_crossentropy` received `from_logits=True`, but the `output` argument was produced by a sigmoid or softmax activation and thus does not represent logits. Was this intended?\"\n",
      "  return dispatch_target(*args, **kwargs)\n"
     ]
    },
    {
     "name": "stdout",
     "output_type": "stream",
     "text": [
      "1875/1875 [==============================] - 1s 583us/step - loss: 0.3089 - accuracy: 0.9086\n",
      "Epoch 2/10\n",
      "1875/1875 [==============================] - 1s 585us/step - loss: 0.1329 - accuracy: 0.9609\n",
      "Epoch 3/10\n",
      "1875/1875 [==============================] - 1s 573us/step - loss: 0.0983 - accuracy: 0.9696\n",
      "Epoch 4/10\n",
      "1875/1875 [==============================] - 1s 581us/step - loss: 0.0797 - accuracy: 0.9758\n",
      "Epoch 5/10\n",
      "1875/1875 [==============================] - 1s 583us/step - loss: 0.0654 - accuracy: 0.9800\n",
      "Epoch 6/10\n",
      "1875/1875 [==============================] - 1s 588us/step - loss: 0.0554 - accuracy: 0.9825\n",
      "Epoch 7/10\n",
      "1875/1875 [==============================] - 1s 585us/step - loss: 0.0478 - accuracy: 0.9848\n",
      "Epoch 8/10\n",
      "1875/1875 [==============================] - 1s 578us/step - loss: 0.0414 - accuracy: 0.9868\n",
      "Epoch 9/10\n",
      "1875/1875 [==============================] - 1s 590us/step - loss: 0.0358 - accuracy: 0.9886\n",
      "Epoch 10/10\n",
      "1875/1875 [==============================] - 1s 591us/step - loss: 0.0322 - accuracy: 0.9894\n"
     ]
    },
    {
     "data": {
      "text/plain": [
       "<keras.callbacks.History at 0x7f82fff7bd60>"
      ]
     },
     "execution_count": 20,
     "metadata": {},
     "output_type": "execute_result"
    }
   ],
   "source": [
    "model.compile(optimizer=optimizer, loss=loss_fn, metrics=['accuracy'])\n",
    "\n",
    "num_epochs = 10\n",
    "model.fit(x_train, y_train, epochs=num_epochs)"
   ]
  },
  {
   "cell_type": "markdown",
   "metadata": {},
   "source": [
    "We briefly check that it did not grossly overfit (this experiment is just for illustrative purpose, we do not aim to have a fine-tuned network). In the following cell, `accuracy` should be about 97%."
   ]
  },
  {
   "cell_type": "code",
   "execution_count": 21,
   "metadata": {},
   "outputs": [
    {
     "name": "stdout",
     "output_type": "stream",
     "text": [
      "313/313 [==============================] - 0s 417us/step - loss: 0.0842 - accuracy: 0.9780\n"
     ]
    },
    {
     "data": {
      "text/plain": [
       "[0.08416885882616043, 0.9779999852180481]"
      ]
     },
     "execution_count": 21,
     "metadata": {},
     "output_type": "execute_result"
    }
   ],
   "source": [
    "model.evaluate(x_test, y_test)"
   ]
  },
  {
   "cell_type": "markdown",
   "metadata": {},
   "source": [
    "Now, for **each class** and **only the final layer**, we will:\n",
    "- Build the activation graphs for each training observation. Note: there are 6,000 observations per class in MNIST; using all of them may be overkill. In the following, we will only use 100 reference observations for each class, which turns out to be sufficient.\n",
    "- Extract topological features (called _persistence diagrams_) from these activation graphs (which, in our specific setting, can be interpreted as extracting maximum spanning trees from the graphs). \n",
    "- Average these persistence diagrams to have a compact summary of how our training observations (for each class) activated the network. This average is encoded by a Fréchet mean, a.k.a. barycenter, of the corresponding diagrams.\n",
    "\n",
    "Actually, all these three steps are handled by the function `bary_of_set_from_deep_model(model, x, layers_id)`, available from `utils.utils_tda` (imported as `utda` in this notebook). In this function, \n",
    "- `model` is our tensorflow model we have trained above.\n",
    "- `x` is a set of points from which we compute diagrams and average them.\n",
    "- `layers_id` is a subset of the model layers. Setting `layers_id=None` implies taking all layers into account. Here, as we have 3 layers, and we want to consider only the last one, we set `layers_id=[2]`."
   ]
  },
  {
   "cell_type": "code",
   "execution_count": 22,
   "metadata": {},
   "outputs": [],
   "source": [
    "n_obs_per_class = 100\n",
    "\n",
    "# Take n_obs_per_class observation from each class in x_train:\n",
    "xs = [x_train[np.where(y_train == ell)][:n_obs_per_class] for ell in labels]\n",
    "\n",
    "# Now we get the corresponding barycenters.\n",
    "layers_id = [2]\n",
    "all_barycenters = [utda.barycenters_of_set_from_deep_model(model, x, layers_id=layers_id) for x in xs]"
   ]
  },
  {
   "cell_type": "code",
   "execution_count": 23,
   "metadata": {},
   "outputs": [],
   "source": [
    "all_mean_adjacency_matrices = [utda.mean_adjacency_matrices_from_deep_model(model, x, layers_id=layers_id) for x in xs]"
   ]
  },
  {
   "cell_type": "markdown",
   "metadata": {},
   "source": [
    "Now, given a new observation, we can get the class assigned by our `model` to it, and compute its distance to the barycenter of this class to check if something weird is happening. \n",
    "\n",
    "Let us take, for instance, the first 10 observations of the test set. The first one represents a 7."
   ]
  },
  {
   "cell_type": "code",
   "execution_count": 24,
   "metadata": {},
   "outputs": [
    {
     "data": {
      "image/png": "[encoded data removed]",
      "text/plain": [
       "<Figure size 1440x216 with 10 Axes>"
      ]
     },
     "metadata": {},
     "output_type": "display_data"
    }
   ],
   "source": [
    "n_new_obs = 10\n",
    "new_obs = x_test[:n_new_obs]\n",
    "fig, axs = plt.subplots(1, n_new_obs, figsize=(20,3))\n",
    "for i,ax in enumerate(axs):\n",
    "    ax.imshow(new_obs[i].reshape(28,28), cmap='Greys')\n",
    "    ax.set_xticks([])\n",
    "    ax.set_yticks([])"
   ]
  },
  {
   "cell_type": "markdown",
   "metadata": {},
   "source": [
    "What does our model predict there?"
   ]
  },
  {
   "cell_type": "code",
   "execution_count": 25,
   "metadata": {},
   "outputs": [
    {
     "name": "stdout",
     "output_type": "stream",
     "text": [
      "class predicted: 7 (with confidence = 100.0%) --- True label: 7\n",
      "***\n",
      "class predicted: 2 (with confidence = 100.0%) --- True label: 2\n",
      "***\n",
      "class predicted: 1 (with confidence = 99.6%) --- True label: 1\n",
      "***\n",
      "class predicted: 0 (with confidence = 100.0%) --- True label: 0\n",
      "***\n",
      "class predicted: 4 (with confidence = 100.0%) --- True label: 4\n",
      "***\n",
      "class predicted: 1 (with confidence = 100.0%) --- True label: 1\n",
      "***\n",
      "class predicted: 4 (with confidence = 100.0%) --- True label: 4\n",
      "***\n",
      "class predicted: 9 (with confidence = 100.0%) --- True label: 9\n",
      "***\n",
      "class predicted: 5 (with confidence = 99.0%) --- True label: 5\n",
      "***\n",
      "class predicted: 9 (with confidence = 100.0%) --- True label: 9\n",
      "***\n"
     ]
    }
   ],
   "source": [
    "predicted_classes = np.argmax(model.predict(new_obs), axis=-1)\n",
    "confidences = np.max(model.predict(new_obs), axis=-1)\n",
    "true_classes = y_test[:10]\n",
    "for i in range(10):\n",
    "    print(\"class predicted: %s (with confidence = %s%%) --- True label: %s\" \n",
    "          %(predicted_classes[i], np.round(100*confidences[i], 1), true_classes[i]))\n",
    "    print(\"***\")"
   ]
  },
  {
   "cell_type": "markdown",
   "metadata": {},
   "source": [
    "As we can see, our network is correct most of the time (unless one has been very unlucky with the random seed used for training) and is quite confident in its predictions."
   ]
  },
  {
   "cell_type": "markdown",
   "metadata": {},
   "source": [
    "Now, what's the _Topological uncertainty_ of these new observations? That is, what is the distance between the persistence diagrams (of the activation graphs) of these new observations and the barycenters of the corresponding class?"
   ]
  },
  {
   "cell_type": "code",
   "execution_count": 32,
   "metadata": {},
   "outputs": [
    {
     "data": {
      "text/plain": [
       "array([0.1115596 , 0.2443601 , 0.18473223, 0.11492859, 0.13457921,\n",
       "       0.05928846, 0.09371681, 0.0821672 , 0.19753862, 0.20114287])"
      ]
     },
     "execution_count": 32,
     "metadata": {},
     "output_type": "execute_result"
    }
   ],
   "source": [
    "# First, we compute the diagram of this new observation\n",
    "utda.topological_uncertainty(model, new_obs, all_barycenters, layers_id=layers_id)"
   ]
  },
  {
   "cell_type": "code",
   "execution_count": 38,
   "metadata": {},
   "outputs": [
    {
     "data": {
      "text/plain": [
       "array([0.34239987, 0.8049361 , 0.26467299, 0.49968238, 0.22944215,\n",
       "       0.33900783, 0.56059501, 0.34992948, 0.91427853, 0.56902329])"
      ]
     },
     "execution_count": 38,
     "metadata": {},
     "output_type": "execute_result"
    }
   ],
   "source": [
    "utda.topological_difference(model, new_obs, all_mean_adjacency_matrices, layers_id=layers_id)"
   ]
  },
  {
   "cell_type": "markdown",
   "metadata": {},
   "source": [
    "To get an idea of what these values represent, let us look at how our model reacts to Out-of-distribution data coming from the `Fashion MNIST` dataset."
   ]
  },
  {
   "cell_type": "code",
   "execution_count": 39,
   "metadata": {
    "scrolled": true
   },
   "outputs": [
    {
     "data": {
      "image/png": "[encoded data removed]",
      "text/plain": [
       "<Figure size 1440x216 with 10 Axes>"
      ]
     },
     "metadata": {},
     "output_type": "display_data"
    }
   ],
   "source": [
    "fmnist = tf.keras.datasets.fashion_mnist\n",
    "\n",
    "(x_train_fmnist, y_train_fmnist) = fmnist.load_data()[0]\n",
    "x_train_fmnist = x_train_fmnist / 255.0\n",
    "x_train_fmnist = x_train_fmnist.reshape(len(x_train_fmnist), 784)\n",
    "\n",
    "nplots = 10\n",
    "fix, axs = plt.subplots(1, nplots, figsize=(20,3))\n",
    "\n",
    "for i, ax in enumerate(axs):\n",
    "    (ax.imshow(x_train_fmnist[i].reshape(28,28), cmap='Greys'), ax.set_xticks([]), ax.set_yticks([]))"
   ]
  },
  {
   "cell_type": "code",
   "execution_count": 40,
   "metadata": {},
   "outputs": [
    {
     "data": {
      "text/plain": [
       "array([1.32739303, 0.95467377, 0.2652314 , 0.37533687, 0.89020808,\n",
       "       0.58262384, 0.53942418, 1.03794539, 0.21316264, 0.92974348])"
      ]
     },
     "execution_count": 40,
     "metadata": {},
     "output_type": "execute_result"
    }
   ],
   "source": [
    "ood_samples = x_train_fmnist[:10]\n",
    "utda.topological_uncertainty(model, ood_samples, all_barycenters, layers_id=layers_id)"
   ]
  },
  {
   "cell_type": "code",
   "execution_count": 41,
   "metadata": {},
   "outputs": [
    {
     "data": {
      "text/plain": [
       "array([2.11677845, 1.87035971, 0.99555158, 1.09161839, 1.61447748,\n",
       "       1.38056639, 1.50701034, 2.00777079, 0.87931769, 1.95088032])"
      ]
     },
     "execution_count": 41,
     "metadata": {},
     "output_type": "execute_result"
    }
   ],
   "source": [
    "utda.topological_difference(model, ood_samples, all_mean_adjacency_matrices, layers_id=layers_id)"
   ]
  },
  {
   "cell_type": "markdown",
   "metadata": {},
   "source": [
    "As one can see, these values are much higher (except perhaps for the 9th image). This way, topological uncertainty can be used as a way to detect out-of-distribution samples. One may wonder if this could be read in the confidence of the network directly..."
   ]
  },
  {
   "cell_type": "code",
   "execution_count": 31,
   "metadata": {},
   "outputs": [
    {
     "name": "stdout",
     "output_type": "stream",
     "text": [
      "[1.         0.92883676 0.7163753  0.585104   0.9996973  0.9987224\n",
      " 1.         0.999969   0.9390119  0.85116816]\n"
     ]
    }
   ],
   "source": [
    "ood_confidences = np.max(model.predict(ood_samples), axis=-1)\n",
    "print(ood_confidences)"
   ]
  },
  {
   "cell_type": "markdown",
   "metadata": {},
   "source": [
    "For most predictions, the network remains extremely confident in its predictions (while, of course, the prediction itself does not make sense)! Thus, confidence cannot be used as a reliable way to detect Out-of-Distribution samples while TU can help there."
   ]
  },
  {
   "cell_type": "markdown",
   "metadata": {},
   "source": [
    "## 2.2 Paper experiment: OOD detection on graph dataset"
   ]
  },
  {
   "cell_type": "code",
   "execution_count": 32,
   "metadata": {},
   "outputs": [],
   "source": [
    "import pandas as pd"
   ]
  },
  {
   "cell_type": "markdown",
   "metadata": {},
   "source": [
    "Pick the dataset you want to work with (`'MUTAG'` or `'COX2'`) as your Training set (we suggest to start `'MUTAG'`). "
   ]
  },
  {
   "cell_type": "code",
   "execution_count": 33,
   "metadata": {},
   "outputs": [],
   "source": [
    "dataset = 'MUTAG'"
   ]
  },
  {
   "cell_type": "code",
   "execution_count": 34,
   "metadata": {},
   "outputs": [],
   "source": [
    "if dataset == 'MUTAG':\n",
    "    dataset_ood = 'COX2'\n",
    "elif dataset == 'COX2':\n",
    "    dataset_ood = 'MUTAG'"
   ]
  },
  {
   "cell_type": "code",
   "execution_count": 35,
   "metadata": {},
   "outputs": [],
   "source": [
    "feat = pd.read_csv('./datasets/%s/%s.csv' %(dataset,dataset), index_col=0, header=0)\n",
    "x_train, y_train = np.array(feat)[:,1:], np.array(feat['label'])"
   ]
  },
  {
   "cell_type": "markdown",
   "metadata": {},
   "source": [
    "`feat` store the spectral features built on top of each graph. `evalN` correspond to the `N`-th eigenvalue of the normalized Laplacian of the graph (padded to 30 eigenvalues), while the following quantiles correspond to the Heat-Kernel-Signature (value) map evaluated with $t=10$.\n",
    "\n",
    "The first column of `feat` corresponds to labels (taking value in `0`,`1` as this is a binary classification problem."
   ]
  },
  {
   "cell_type": "code",
   "execution_count": 36,
   "metadata": {},
   "outputs": [
    {
     "data": {
      "text/html": [
       "<div>\n",
       "<style scoped>\n",
       "    .dataframe tbody tr th:only-of-type {\n",
       "        vertical-align: middle;\n",
       "    }\n",
       "\n",
       "    .dataframe tbody tr th {\n",
       "        vertical-align: top;\n",
       "    }\n",
       "\n",
       "    .dataframe thead th {\n",
       "        text-align: right;\n",
       "    }\n",
       "</style>\n",
       "<table border=\"1\" class=\"dataframe\">\n",
       "  <thead>\n",
       "    <tr style=\"text-align: right;\">\n",
       "      <th></th>\n",
       "      <th>label</th>\n",
       "      <th>eval0</th>\n",
       "      <th>eval1</th>\n",
       "      <th>eval2</th>\n",
       "      <th>eval3</th>\n",
       "      <th>eval4</th>\n",
       "      <th>eval5</th>\n",
       "      <th>eval6</th>\n",
       "      <th>eval7</th>\n",
       "      <th>eval8</th>\n",
       "      <th>...</th>\n",
       "      <th>10.0-percent10</th>\n",
       "      <th>10.0-percent20</th>\n",
       "      <th>10.0-percent30</th>\n",
       "      <th>10.0-percent40</th>\n",
       "      <th>10.0-percent50</th>\n",
       "      <th>10.0-percent60</th>\n",
       "      <th>10.0-percent70</th>\n",
       "      <th>10.0-percent80</th>\n",
       "      <th>10.0-percent90</th>\n",
       "      <th>10.0-percent100</th>\n",
       "    </tr>\n",
       "  </thead>\n",
       "  <tbody>\n",
       "    <tr>\n",
       "      <th>0</th>\n",
       "      <td>1</td>\n",
       "      <td>2.000000</td>\n",
       "      <td>1.935789</td>\n",
       "      <td>1.806565</td>\n",
       "      <td>1.692739</td>\n",
       "      <td>1.516169</td>\n",
       "      <td>1.500000</td>\n",
       "      <td>1.302172</td>\n",
       "      <td>1.283846</td>\n",
       "      <td>1.000000</td>\n",
       "      <td>...</td>\n",
       "      <td>0.073968</td>\n",
       "      <td>0.078373</td>\n",
       "      <td>0.083234</td>\n",
       "      <td>0.086899</td>\n",
       "      <td>0.093140</td>\n",
       "      <td>0.099276</td>\n",
       "      <td>0.104903</td>\n",
       "      <td>0.115026</td>\n",
       "      <td>0.123847</td>\n",
       "      <td>0.220578</td>\n",
       "    </tr>\n",
       "    <tr>\n",
       "      <th>1</th>\n",
       "      <td>0</td>\n",
       "      <td>2.000000</td>\n",
       "      <td>1.887105</td>\n",
       "      <td>1.769244</td>\n",
       "      <td>1.535183</td>\n",
       "      <td>1.422757</td>\n",
       "      <td>1.269871</td>\n",
       "      <td>1.000000</td>\n",
       "      <td>0.730129</td>\n",
       "      <td>0.577243</td>\n",
       "      <td>...</td>\n",
       "      <td>0.082667</td>\n",
       "      <td>0.090645</td>\n",
       "      <td>0.092821</td>\n",
       "      <td>0.096999</td>\n",
       "      <td>0.099753</td>\n",
       "      <td>0.112263</td>\n",
       "      <td>0.114826</td>\n",
       "      <td>0.120913</td>\n",
       "      <td>0.124706</td>\n",
       "      <td>0.210941</td>\n",
       "    </tr>\n",
       "    <tr>\n",
       "      <th>2</th>\n",
       "      <td>0</td>\n",
       "      <td>2.000000</td>\n",
       "      <td>1.887105</td>\n",
       "      <td>1.769244</td>\n",
       "      <td>1.535183</td>\n",
       "      <td>1.422757</td>\n",
       "      <td>1.269871</td>\n",
       "      <td>1.000000</td>\n",
       "      <td>0.730129</td>\n",
       "      <td>0.577243</td>\n",
       "      <td>...</td>\n",
       "      <td>0.082667</td>\n",
       "      <td>0.090645</td>\n",
       "      <td>0.092821</td>\n",
       "      <td>0.096999</td>\n",
       "      <td>0.099754</td>\n",
       "      <td>0.112264</td>\n",
       "      <td>0.114827</td>\n",
       "      <td>0.120913</td>\n",
       "      <td>0.124707</td>\n",
       "      <td>0.210943</td>\n",
       "    </tr>\n",
       "    <tr>\n",
       "      <th>3</th>\n",
       "      <td>1</td>\n",
       "      <td>1.968440</td>\n",
       "      <td>1.944924</td>\n",
       "      <td>1.879056</td>\n",
       "      <td>1.704426</td>\n",
       "      <td>1.594534</td>\n",
       "      <td>1.520651</td>\n",
       "      <td>1.409780</td>\n",
       "      <td>1.386936</td>\n",
       "      <td>1.150122</td>\n",
       "      <td>...</td>\n",
       "      <td>0.073967</td>\n",
       "      <td>0.079857</td>\n",
       "      <td>0.080076</td>\n",
       "      <td>0.086424</td>\n",
       "      <td>0.088624</td>\n",
       "      <td>0.091008</td>\n",
       "      <td>0.094584</td>\n",
       "      <td>0.105299</td>\n",
       "      <td>0.111327</td>\n",
       "      <td>0.207201</td>\n",
       "    </tr>\n",
       "    <tr>\n",
       "      <th>4</th>\n",
       "      <td>0</td>\n",
       "      <td>2.000000</td>\n",
       "      <td>1.856040</td>\n",
       "      <td>1.715183</td>\n",
       "      <td>1.427683</td>\n",
       "      <td>1.212175</td>\n",
       "      <td>1.000000</td>\n",
       "      <td>0.787825</td>\n",
       "      <td>0.572317</td>\n",
       "      <td>0.284817</td>\n",
       "      <td>...</td>\n",
       "      <td>0.066821</td>\n",
       "      <td>0.081685</td>\n",
       "      <td>0.081685</td>\n",
       "      <td>0.096868</td>\n",
       "      <td>0.107860</td>\n",
       "      <td>0.113531</td>\n",
       "      <td>0.141626</td>\n",
       "      <td>0.156696</td>\n",
       "      <td>0.178135</td>\n",
       "      <td>0.215393</td>\n",
       "    </tr>\n",
       "    <tr>\n",
       "      <th>...</th>\n",
       "      <td>...</td>\n",
       "      <td>...</td>\n",
       "      <td>...</td>\n",
       "      <td>...</td>\n",
       "      <td>...</td>\n",
       "      <td>...</td>\n",
       "      <td>...</td>\n",
       "      <td>...</td>\n",
       "      <td>...</td>\n",
       "      <td>...</td>\n",
       "      <td>...</td>\n",
       "      <td>...</td>\n",
       "      <td>...</td>\n",
       "      <td>...</td>\n",
       "      <td>...</td>\n",
       "      <td>...</td>\n",
       "      <td>...</td>\n",
       "      <td>...</td>\n",
       "      <td>...</td>\n",
       "      <td>...</td>\n",
       "      <td>...</td>\n",
       "    </tr>\n",
       "    <tr>\n",
       "      <th>183</th>\n",
       "      <td>1</td>\n",
       "      <td>1.970788</td>\n",
       "      <td>1.964440</td>\n",
       "      <td>1.865129</td>\n",
       "      <td>1.831552</td>\n",
       "      <td>1.726228</td>\n",
       "      <td>1.553545</td>\n",
       "      <td>1.490822</td>\n",
       "      <td>1.422498</td>\n",
       "      <td>1.340695</td>\n",
       "      <td>...</td>\n",
       "      <td>0.077156</td>\n",
       "      <td>0.077959</td>\n",
       "      <td>0.079306</td>\n",
       "      <td>0.080343</td>\n",
       "      <td>0.080437</td>\n",
       "      <td>0.083673</td>\n",
       "      <td>0.088596</td>\n",
       "      <td>0.091853</td>\n",
       "      <td>0.115181</td>\n",
       "      <td>0.208884</td>\n",
       "    </tr>\n",
       "    <tr>\n",
       "      <th>184</th>\n",
       "      <td>0</td>\n",
       "      <td>2.000000</td>\n",
       "      <td>1.876146</td>\n",
       "      <td>1.847149</td>\n",
       "      <td>1.524804</td>\n",
       "      <td>1.394909</td>\n",
       "      <td>1.000000</td>\n",
       "      <td>1.000000</td>\n",
       "      <td>1.000000</td>\n",
       "      <td>0.605091</td>\n",
       "      <td>...</td>\n",
       "      <td>0.080408</td>\n",
       "      <td>0.080571</td>\n",
       "      <td>0.080817</td>\n",
       "      <td>0.087852</td>\n",
       "      <td>0.090901</td>\n",
       "      <td>0.108419</td>\n",
       "      <td>0.125597</td>\n",
       "      <td>0.154202</td>\n",
       "      <td>0.202140</td>\n",
       "      <td>0.211148</td>\n",
       "    </tr>\n",
       "    <tr>\n",
       "      <th>185</th>\n",
       "      <td>0</td>\n",
       "      <td>1.968590</td>\n",
       "      <td>1.821959</td>\n",
       "      <td>1.799248</td>\n",
       "      <td>1.512297</td>\n",
       "      <td>1.394731</td>\n",
       "      <td>1.000000</td>\n",
       "      <td>0.863041</td>\n",
       "      <td>0.713542</td>\n",
       "      <td>0.487643</td>\n",
       "      <td>...</td>\n",
       "      <td>0.083537</td>\n",
       "      <td>0.084318</td>\n",
       "      <td>0.087494</td>\n",
       "      <td>0.095526</td>\n",
       "      <td>0.108254</td>\n",
       "      <td>0.114312</td>\n",
       "      <td>0.128439</td>\n",
       "      <td>0.137119</td>\n",
       "      <td>0.138423</td>\n",
       "      <td>0.220978</td>\n",
       "    </tr>\n",
       "    <tr>\n",
       "      <th>186</th>\n",
       "      <td>1</td>\n",
       "      <td>2.000000</td>\n",
       "      <td>1.940580</td>\n",
       "      <td>1.896098</td>\n",
       "      <td>1.782380</td>\n",
       "      <td>1.574275</td>\n",
       "      <td>1.554004</td>\n",
       "      <td>1.515046</td>\n",
       "      <td>1.411485</td>\n",
       "      <td>1.290744</td>\n",
       "      <td>...</td>\n",
       "      <td>0.078088</td>\n",
       "      <td>0.081965</td>\n",
       "      <td>0.083402</td>\n",
       "      <td>0.088430</td>\n",
       "      <td>0.088590</td>\n",
       "      <td>0.090959</td>\n",
       "      <td>0.092160</td>\n",
       "      <td>0.110956</td>\n",
       "      <td>0.110977</td>\n",
       "      <td>0.220093</td>\n",
       "    </tr>\n",
       "    <tr>\n",
       "      <th>187</th>\n",
       "      <td>0</td>\n",
       "      <td>1.968759</td>\n",
       "      <td>1.939636</td>\n",
       "      <td>1.817100</td>\n",
       "      <td>1.603109</td>\n",
       "      <td>1.554315</td>\n",
       "      <td>1.401323</td>\n",
       "      <td>1.375469</td>\n",
       "      <td>1.000000</td>\n",
       "      <td>0.921216</td>\n",
       "      <td>...</td>\n",
       "      <td>0.074574</td>\n",
       "      <td>0.083437</td>\n",
       "      <td>0.083762</td>\n",
       "      <td>0.093290</td>\n",
       "      <td>0.095833</td>\n",
       "      <td>0.104317</td>\n",
       "      <td>0.110172</td>\n",
       "      <td>0.115355</td>\n",
       "      <td>0.124746</td>\n",
       "      <td>0.220347</td>\n",
       "    </tr>\n",
       "  </tbody>\n",
       "</table>\n",
       "<p>188 rows × 42 columns</p>\n",
       "</div>"
      ],
      "text/plain": [
       "     label     eval0     eval1     eval2     eval3     eval4     eval5  \\\n",
       "0        1  2.000000  1.935789  1.806565  1.692739  1.516169  1.500000   \n",
       "1        0  2.000000  1.887105  1.769244  1.535183  1.422757  1.269871   \n",
       "2        0  2.000000  1.887105  1.769244  1.535183  1.422757  1.269871   \n",
       "3        1  1.968440  1.944924  1.879056  1.704426  1.594534  1.520651   \n",
       "4        0  2.000000  1.856040  1.715183  1.427683  1.212175  1.000000   \n",
       "..     ...       ...       ...       ...       ...       ...       ...   \n",
       "183      1  1.970788  1.964440  1.865129  1.831552  1.726228  1.553545   \n",
       "184      0  2.000000  1.876146  1.847149  1.524804  1.394909  1.000000   \n",
       "185      0  1.968590  1.821959  1.799248  1.512297  1.394731  1.000000   \n",
       "186      1  2.000000  1.940580  1.896098  1.782380  1.574275  1.554004   \n",
       "187      0  1.968759  1.939636  1.817100  1.603109  1.554315  1.401323   \n",
       "\n",
       "        eval6     eval7     eval8  ...  10.0-percent10  10.0-percent20  \\\n",
       "0    1.302172  1.283846  1.000000  ...        0.073968        0.078373   \n",
       "1    1.000000  0.730129  0.577243  ...        0.082667        0.090645   \n",
       "2    1.000000  0.730129  0.577243  ...        0.082667        0.090645   \n",
       "3    1.409780  1.386936  1.150122  ...        0.073967        0.079857   \n",
       "4    0.787825  0.572317  0.284817  ...        0.066821        0.081685   \n",
       "..        ...       ...       ...  ...             ...             ...   \n",
       "183  1.490822  1.422498  1.340695  ...        0.077156        0.077959   \n",
       "184  1.000000  1.000000  0.605091  ...        0.080408        0.080571   \n",
       "185  0.863041  0.713542  0.487643  ...        0.083537        0.084318   \n",
       "186  1.515046  1.411485  1.290744  ...        0.078088        0.081965   \n",
       "187  1.375469  1.000000  0.921216  ...        0.074574        0.083437   \n",
       "\n",
       "     10.0-percent30  10.0-percent40  10.0-percent50  10.0-percent60  \\\n",
       "0          0.083234        0.086899        0.093140        0.099276   \n",
       "1          0.092821        0.096999        0.099753        0.112263   \n",
       "2          0.092821        0.096999        0.099754        0.112264   \n",
       "3          0.080076        0.086424        0.088624        0.091008   \n",
       "4          0.081685        0.096868        0.107860        0.113531   \n",
       "..              ...             ...             ...             ...   \n",
       "183        0.079306        0.080343        0.080437        0.083673   \n",
       "184        0.080817        0.087852        0.090901        0.108419   \n",
       "185        0.087494        0.095526        0.108254        0.114312   \n",
       "186        0.083402        0.088430        0.088590        0.090959   \n",
       "187        0.083762        0.093290        0.095833        0.104317   \n",
       "\n",
       "     10.0-percent70  10.0-percent80  10.0-percent90  10.0-percent100  \n",
       "0          0.104903        0.115026        0.123847         0.220578  \n",
       "1          0.114826        0.120913        0.124706         0.210941  \n",
       "2          0.114827        0.120913        0.124707         0.210943  \n",
       "3          0.094584        0.105299        0.111327         0.207201  \n",
       "4          0.141626        0.156696        0.178135         0.215393  \n",
       "..              ...             ...             ...              ...  \n",
       "183        0.088596        0.091853        0.115181         0.208884  \n",
       "184        0.125597        0.154202        0.202140         0.211148  \n",
       "185        0.128439        0.137119        0.138423         0.220978  \n",
       "186        0.092160        0.110956        0.110977         0.220093  \n",
       "187        0.110172        0.115355        0.124746         0.220347  \n",
       "\n",
       "[188 rows x 42 columns]"
      ]
     },
     "execution_count": 36,
     "metadata": {},
     "output_type": "execute_result"
    }
   ],
   "source": [
    "feat"
   ]
  },
  {
   "cell_type": "markdown",
   "metadata": {},
   "source": [
    "### Step 1: Training the model"
   ]
  },
  {
   "cell_type": "markdown",
   "metadata": {},
   "source": [
    "We train the model using `tensorflow 2` on the `x_train` corresponding to `dataset`."
   ]
  },
  {
   "cell_type": "code",
   "execution_count": 37,
   "metadata": {},
   "outputs": [
    {
     "name": "stderr",
     "output_type": "stream",
     "text": [
      "/home/felix/.cache/pypoetry/virtualenvs/topologicaluncertainty-FuTyNJF2-py3.9/lib/python3.9/site-packages/tensorflow/python/util/dispatch.py:1082: UserWarning: \"`sparse_categorical_crossentropy` received `from_logits=True`, but the `output` argument was produced by a sigmoid or softmax activation and thus does not represent logits. Was this intended?\"\n",
      "  return dispatch_target(*args, **kwargs)\n"
     ]
    },
    {
     "data": {
      "text/plain": [
       "<keras.callbacks.History at 0x7f532c9e2e80>"
      ]
     },
     "execution_count": 37,
     "metadata": {},
     "output_type": "execute_result"
    }
   ],
   "source": [
    "model = tf.keras.models.Sequential([\n",
    "    tf.keras.layers.BatchNormalization(),\n",
    "    tf.keras.layers.Dense(32, activation='relu'),\n",
    "    tf.keras.layers.BatchNormalization(),\n",
    "    tf.keras.layers.Dense(2, activation='softmax'),\n",
    "])\n",
    "\n",
    "loss_fn = tf.keras.losses.SparseCategoricalCrossentropy(from_logits=True)\n",
    "opt = tf.keras.optimizers.Adam(learning_rate=0.01, epsilon=1E-4)\n",
    "\n",
    "model.compile(optimizer=opt,\n",
    "              loss=loss_fn,\n",
    "              metrics=['accuracy'])\n",
    "\n",
    "model.fit(x_train, y_train, epochs=50, verbose=0)  # Turn verbose to 1 to have training details."
   ]
  },
  {
   "cell_type": "markdown",
   "metadata": {},
   "source": [
    "### Step 2 : Computing graphs on the training dataset and Fréchet means per class"
   ]
  },
  {
   "cell_type": "code",
   "execution_count": 38,
   "metadata": {},
   "outputs": [],
   "source": [
    "nlayer = 2  # Our model has 2 layers that contains a weight matrix W (BatchNormalization layers can be considered as activation maps).\n",
    "nlabel = 2  # This is a binary classification problem"
   ]
  },
  {
   "cell_type": "markdown",
   "metadata": {},
   "source": [
    "We compute the activation graphs when `x_train` goes through `model` (that is now trained)."
   ]
  },
  {
   "cell_type": "code",
   "execution_count": 39,
   "metadata": {},
   "outputs": [],
   "source": [
    "graphs = ug.build_graphs_from_deep_model(model, x_train)"
   ]
  },
  {
   "cell_type": "markdown",
   "metadata": {},
   "source": [
    "We also compute the mean adjacency matrices."
   ]
  },
  {
   "cell_type": "code",
   "execution_count": 40,
   "metadata": {},
   "outputs": [],
   "source": [
    "n_obs_per_class = 100\n",
    "\n",
    "# Take n_obs_per_class observation from each class in x_train:\n",
    "xs = [x_train[np.where(y_train == ell)][:n_obs_per_class] for ell in labels]\n",
    "\n",
    "# Now we get the corresponding barycenters.\n",
    "layers_id = [0, 1]\n",
    "\n",
    "# all_mean_adjacency_matrices = utda.mean_adjacency_matrices_from_deep_model(model, x_train)\n",
    "all_mean_adjacency_matrices = [utda.mean_adjacency_matrices_from_deep_model(model, x_train, layers_id=layers_id) for x in xs]"
   ]
  },
  {
   "cell_type": "code",
   "execution_count": 41,
   "metadata": {},
   "outputs": [
    {
     "data": {
      "text/plain": [
       "(1, 41, 32)"
      ]
     },
     "execution_count": 41,
     "metadata": {},
     "output_type": "execute_result"
    }
   ],
   "source": [
    "all_mean_adjacency_matrices[1].shape"
   ]
  },
  {
   "cell_type": "markdown",
   "metadata": {},
   "source": [
    "We then extract persistence diagrams (Maximum Spanning Trees) from these weighted graphs."
   ]
  },
  {
   "cell_type": "code",
   "execution_count": 42,
   "metadata": {},
   "outputs": [],
   "source": [
    "diags = utda.diags_from_graphs(graphs)"
   ]
  },
  {
   "cell_type": "markdown",
   "metadata": {},
   "source": [
    "Now, we compute the Fréchet means for each class (here, we have $K=2$ classes)."
   ]
  },
  {
   "cell_type": "code",
   "execution_count": 43,
   "metadata": {},
   "outputs": [],
   "source": [
    "predicted_class_on_train = np.argmax(model.predict(x_train), axis=-1)\n",
    "wbarys = [utda.barycenters_of_set_from_deep_model(model, x_train[np.where(predicted_class_on_train==c)]) \n",
    "          for c in range(nlabel)]"
   ]
  },
  {
   "cell_type": "markdown",
   "metadata": {},
   "source": [
    "`wbarys[c][ell]` represents the average persistence diagram of the `ell`-th layer for points in `x_train` that are classified as `c` by the network."
   ]
  },
  {
   "cell_type": "markdown",
   "metadata": {},
   "source": [
    "### Step 3: Computing Distribution of TUs on the training distribution."
   ]
  },
  {
   "cell_type": "markdown",
   "metadata": {},
   "source": [
    "Now, we can compute the Topological Uncertainty for each point in `x_train`, giving a distribution of training Topological Uncertainties."
   ]
  },
  {
   "cell_type": "code",
   "execution_count": 44,
   "metadata": {},
   "outputs": [],
   "source": [
    "dists_true = [np.mean([utda.wasserstein_distance_1D(d[ell], wbarys[c][ell], average=True) \n",
    "                       for ell in range(nlayer)])\n",
    "             for c,d in zip(predicted_class_on_train, diags)]"
   ]
  },
  {
   "cell_type": "code",
   "execution_count": 45,
   "metadata": {},
   "outputs": [],
   "source": [
    "TD_dists_true = utda.topological_difference(model, x_train, all_mean_adjacency_matrices)"
   ]
  },
  {
   "cell_type": "code",
   "execution_count": 46,
   "metadata": {},
   "outputs": [],
   "source": [
    "#TD_dists_true"
   ]
  },
  {
   "cell_type": "markdown",
   "metadata": {},
   "source": [
    "### Step 4: Computing distribution of TUs of Fake/OOD datasets (against the training Fréchet means)"
   ]
  },
  {
   "cell_type": "markdown",
   "metadata": {},
   "source": [
    "We compute the TU for points in OOD sets, based on the Fréchet means we have stored in `wbarys`."
   ]
  },
  {
   "cell_type": "code",
   "execution_count": 47,
   "metadata": {},
   "outputs": [],
   "source": [
    "feat_fake = pd.read_csv('./datasets/Fake-%s/Fake-%s.csv' %(dataset,dataset), index_col=0, header=0)\n",
    "x_fake, y_fake = np.array(feat_fake)[:,1:], np.array(feat_fake['label'])  \n",
    "# Note: y_fake shouldn't be used, it's meaningless."
   ]
  },
  {
   "cell_type": "code",
   "execution_count": 48,
   "metadata": {},
   "outputs": [],
   "source": [
    "graphs_fake = ug.build_graphs_from_deep_model(model, x_fake)\n",
    "diags_fake = utda.diags_from_graphs(graphs_fake)\n",
    "\n",
    "predicted_class_fake = np.argmax(model.predict(x_fake), axis=-1)\n",
    "\n",
    "dists_fake = [np.mean([utda.wasserstein_distance_1D(d[ell], wbarys[c][ell], average=True) \n",
    "                       for ell in range(nlayer)])\n",
    "             for c,d in zip(predicted_class_fake, diags_fake)]"
   ]
  },
  {
   "cell_type": "markdown",
   "metadata": {},
   "source": [
    "Same for TD"
   ]
  },
  {
   "cell_type": "code",
   "execution_count": 49,
   "metadata": {},
   "outputs": [],
   "source": [
    "all_mean_adjacency_matrices_fake = [utda.mean_adjacency_matrices_from_deep_model(model, x_fake, layers_id=layers_id) for x in xs]\n",
    "\n",
    "TD_dists_fake = utda.topological_difference(model, x_fake, all_mean_adjacency_matrices_fake)"
   ]
  },
  {
   "cell_type": "code",
   "execution_count": null,
   "metadata": {},
   "outputs": [],
   "source": []
  },
  {
   "cell_type": "code",
   "execution_count": 50,
   "metadata": {},
   "outputs": [],
   "source": [
    "feat_ood = pd.read_csv('./datasets/%s/%s.csv' %(dataset_ood,dataset_ood), index_col=0, header=0)\n",
    "x_ood, y_ood = np.array(feat_ood)[:,1:], np.array(feat_ood['label'])"
   ]
  },
  {
   "cell_type": "code",
   "execution_count": 51,
   "metadata": {},
   "outputs": [],
   "source": [
    "graphs_ood = ug.build_graphs_from_deep_model(model, x_ood)\n",
    "diags_ood = utda.diags_from_graphs(graphs_ood)\n",
    "predicted_class_ood = np.argmax(model.predict(x_ood), axis=-1)\n",
    "dists_ood = [np.mean([utda.wasserstein_distance_1D(d[ell], wbarys[c][ell]) \n",
    "                       for ell in range(nlayer)])\n",
    "             for c,d in zip(predicted_class_ood, diags_ood)]"
   ]
  },
  {
   "cell_type": "code",
   "execution_count": 52,
   "metadata": {},
   "outputs": [],
   "source": [
    "all_mean_adjacency_matrices_ood = [utda.mean_adjacency_matrices_from_deep_model(model, x_ood, layers_id=layers_id) for x in xs]\n",
    "\n",
    "TD_dists_ood = utda.topological_difference(model, x_ood, all_mean_adjacency_matrices_ood)"
   ]
  },
  {
   "cell_type": "code",
   "execution_count": 53,
   "metadata": {},
   "outputs": [],
   "source": [
    "distribs_TUs = [dists_true, dists_fake, dists_ood]\n",
    "distribs_TDs = [TD_dists_true, TD_dists_fake, TD_dists_ood]"
   ]
  },
  {
   "cell_type": "markdown",
   "metadata": {},
   "source": [
    "### Step 5: Computing network confidences for each dataset."
   ]
  },
  {
   "cell_type": "markdown",
   "metadata": {},
   "source": [
    "Now, we compute the distributions of network *confidence*. Note that the final activation of the network is a `softmax`, so we simply have to take its maximum entry."
   ]
  },
  {
   "cell_type": "code",
   "execution_count": 54,
   "metadata": {},
   "outputs": [],
   "source": [
    "confidences_true = np.max(model.predict(x_train), axis=-1)\n",
    "confidences_fake = np.max(model.predict(x_fake), axis=-1)\n",
    "confidences_ood = np.max(model.predict(x_ood), axis=-1)\n",
    "\n",
    "confidences = [confidences_true, confidences_fake, confidences_ood]"
   ]
  },
  {
   "cell_type": "markdown",
   "metadata": {},
   "source": [
    "### Step 6: Visualization"
   ]
  },
  {
   "cell_type": "markdown",
   "metadata": {},
   "source": [
    "We visualize these distributions."
   ]
  },
  {
   "cell_type": "code",
   "execution_count": 58,
   "metadata": {},
   "outputs": [
    {
     "data": {
      "image/png": "[encoded data removed]",
      "text/plain": [
       "<Figure size 1296x432 with 2 Axes>"
      ]
     },
     "metadata": {
      "needs_background": "light"
     },
     "output_type": "display_data"
    }
   ],
   "source": [
    "unb.plot_feature_and_confidence(distribs_TUs, confidences, dataset=dataset, dataset_ood=dataset_ood, name='TU')"
   ]
  },
  {
   "cell_type": "code",
   "execution_count": 59,
   "metadata": {},
   "outputs": [],
   "source": [
    "# Careful! It seems there are some inf values in the arrays!\n",
    "def filter(ar):\n",
    "  return ar[~np.isinf(ar)]\n",
    "\n",
    "distribs_TDs = [filter(a) for a in distribs_TDs]\n",
    "\n",
    "# print(distribs_TDs)"
   ]
  },
  {
   "cell_type": "markdown",
   "metadata": {},
   "source": [
    "And the same for TD:"
   ]
  },
  {
   "cell_type": "code",
   "execution_count": 60,
   "metadata": {},
   "outputs": [
    {
     "data": {
      "image/png": "[encoded data removed]",
      "text/plain": [
       "<Figure size 1296x432 with 2 Axes>"
      ]
     },
     "metadata": {
      "needs_background": "light"
     },
     "output_type": "display_data"
    }
   ],
   "source": [
    "unb.plot_feature_and_confidence(distribs_TDs, confidences, dataset=dataset, dataset_ood=dataset_ood, name='TD')"
   ]
  },
  {
   "cell_type": "markdown",
   "metadata": {},
   "source": [
    "**Interpretation:** \n",
    "\n",
    "*(left)* The distribution of topological uncertainties of training data is concentrated on low values. In comparison, the topological uncertainties of OOD data are significantly higher, allowing for their detection by applying a threshold. \n",
    "\n",
    "*(right)* Perhaps surprisingly, in most (all?) runs, the network tends to be *over-confident* on OOD data (values very close to $1$), while it can be slightly less confident on training data. As a consequence, the baseline detector which labels low-confidence input as OOD-data would perform poorly in this setting."
   ]
  },
  {
   "cell_type": "markdown",
   "metadata": {},
   "source": [
    "------"
   ]
  },
  {
   "cell_type": "markdown",
   "metadata": {},
   "source": [
    "# (Optional) Rebuild the Fake datasets and all the graph features"
   ]
  },
  {
   "cell_type": "markdown",
   "metadata": {},
   "source": [
    "For the sake of simplicity, we provided preprocessed graphs as `.csv` files. If you want to rebuild Fake-datasets from scratch and all the corresponding graph features, do the following:\n",
    "1. Delete the *content* of `./Fake-MUTAG/mat/` and `./Fake-COX2/mat/` (but do not delete the folders, the script do not create them automatically).\n",
    "2. Delete all the `.csv` (from the 4 folders) files . \n",
    "3. Install the Additional dependencies (see below).\n",
    "4. Run the following cells.\n",
    "\n",
    "Note that the Fake-datasets are made of 100 random graphs. Therefore, the plot you end up with might slightly differ, although the global intuition (TU of training data is concentrated on low values, the TU of ood data tends to be larger) remains consistently true over runs. "
   ]
  },
  {
   "cell_type": "markdown",
   "metadata": {},
   "source": [
    "Additional dependencies:\n",
    "\n",
    "- `networkx 2.5` (used to generate random graphs for fake datasets)\n",
    "- `scipy 1.5.2` (used to compute the graphs features)\n"
   ]
  },
  {
   "cell_type": "code",
   "execution_count": null,
   "metadata": {},
   "outputs": [],
   "source": [
    "import utils.utils_data as udata"
   ]
  },
  {
   "cell_type": "markdown",
   "metadata": {},
   "source": [
    "### Generate the Fake datasets\n",
    "\n",
    "We start by generating the Fake datasets as described in the paper."
   ]
  },
  {
   "cell_type": "code",
   "execution_count": null,
   "metadata": {},
   "outputs": [],
   "source": [
    "for dataset in ['MUTAG', 'COX2']:\n",
    "    udata.generate_fake_graphs(dataset)"
   ]
  },
  {
   "cell_type": "markdown",
   "metadata": {},
   "source": [
    "### Turn graphs into finite-dimensional features"
   ]
  },
  {
   "cell_type": "code",
   "execution_count": null,
   "metadata": {},
   "outputs": [],
   "source": [
    "for dataset in ['MUTAG', 'COX2']:\n",
    "    udata.build_csv(dataset)\n",
    "    udata.build_csv('Fake-' + dataset)"
   ]
  }
 ],
 "metadata": {
  "kernelspec": {
   "display_name": "Python 3 (ipykernel)",
   "language": "python",
   "name": "python3"
  },
  "language_info": {
   "codemirror_mode": {
    "name": "ipython",
    "version": 3
   },
   "file_extension": ".py",
   "mimetype": "text/x-python",
   "name": "python",
   "nbconvert_exporter": "python",
   "pygments_lexer": "ipython3",
   "version": "3.9.7"
  }
 },
 "nbformat": 4,
 "nbformat_minor": 4
}
