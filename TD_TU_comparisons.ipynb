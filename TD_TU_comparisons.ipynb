{
 "cells": [
  {
   "cell_type": "markdown",
   "id": "280d8685",
   "metadata": {},
   "source": [
    "# Topological Uncertainty and Topological Difference"
   ]
  },
  {
   "cell_type": "markdown",
   "id": "e22a34b4",
   "metadata": {},
   "source": [
    "**Goal:** We want to experimentally test the differences between Topological Uncertainty (TD) and Topological DIfference (TD)."
   ]
  },
  {
   "cell_type": "markdown",
   "id": "5a2c689e",
   "metadata": {},
   "source": [
    "### Import libraries"
   ]
  },
  {
   "cell_type": "code",
   "execution_count": 1,
   "id": "6adb1d2d",
   "metadata": {},
   "outputs": [],
   "source": [
    "%matplotlib inline\n",
    "%load_ext autoreload\n",
    "%autoreload 2"
   ]
  },
  {
   "cell_type": "markdown",
   "id": "f1cec591",
   "metadata": {},
   "source": [
    "Import from external libraries."
   ]
  },
  {
   "cell_type": "code",
   "execution_count": 2,
   "id": "926080b2",
   "metadata": {},
   "outputs": [],
   "source": [
    "import numpy as np\n",
    "import matplotlib.pylab as plt"
   ]
  },
  {
   "cell_type": "markdown",
   "id": "1e502be8",
   "metadata": {},
   "source": [
    "Import our implementation to compute topological uncertainty"
   ]
  },
  {
   "cell_type": "code",
   "execution_count": 3,
   "id": "d6985b74",
   "metadata": {},
   "outputs": [
    {
     "name": "stderr",
     "output_type": "stream",
     "text": [
      "2022-02-23 14:33:57.689175: W tensorflow/stream_executor/platform/default/dso_loader.cc:64] Could not load dynamic library 'libcudart.so.11.0'; dlerror: libcudart.so.11.0: cannot open shared object file: No such file or directory\n",
      "2022-02-23 14:33:57.689190: I tensorflow/stream_executor/cuda/cudart_stub.cc:29] Ignore above cudart dlerror if you do not have a GPU set up on your machine.\n"
     ]
    }
   ],
   "source": [
    "import utils.utils_graphs as ug\n",
    "import utils.utils_notebook as unb\n",
    "import utils.utils_tda as utda"
   ]
  },
  {
   "cell_type": "markdown",
   "id": "7170cc74",
   "metadata": {},
   "source": [
    "# 2. Topological uncertainty on tensorflow neural network"
   ]
  },
  {
   "cell_type": "markdown",
   "id": "0964b3b6",
   "metadata": {},
   "source": [
    "For this section, you need `tensorflow 2` installed."
   ]
  },
  {
   "cell_type": "code",
   "execution_count": 4,
   "id": "8a6c146f",
   "metadata": {},
   "outputs": [],
   "source": [
    "import tensorflow as tf"
   ]
  },
  {
   "cell_type": "markdown",
   "id": "820d6ea2",
   "metadata": {},
   "source": [
    "## 2.1 A First example"
   ]
  },
  {
   "cell_type": "markdown",
   "id": "e78505b4",
   "metadata": {},
   "source": [
    "We briefly show how you can use TU on a simple tensorflow sequential network. We showcase this using the MNIST dataset."
   ]
  },
  {
   "cell_type": "code",
   "execution_count": 5,
   "id": "0de9bc7f",
   "metadata": {},
   "outputs": [],
   "source": [
    "mnist = tf.keras.datasets.mnist\n",
    "\n",
    "(x_train, y_train), (x_test, y_test) = mnist.load_data()\n",
    "x_train = x_train / 255.0\n",
    "x_train = x_train.reshape(len(x_train), 784)\n",
    "\n",
    "x_test = x_test / 255.0\n",
    "x_test = x_test.reshape(len(x_test), 784)\n",
    "\n",
    "labels = np.unique(y_train)\n",
    "nlabels = len(labels)"
   ]
  },
  {
   "cell_type": "markdown",
   "id": "ca417eaa",
   "metadata": {},
   "source": [
    "We know build a tensorflow model with 2 hidden layers with 64 and 16 units, respectively."
   ]
  },
  {
   "cell_type": "code",
   "execution_count": 6,
   "id": "f409ec6c",
   "metadata": {},
   "outputs": [
    {
     "name": "stdout",
     "output_type": "stream",
     "text": [
      "Model: \"sequential\"\n",
      "_________________________________________________________________\n",
      " Layer (type)                Output Shape              Param #   \n",
      "=================================================================\n",
      " dense (Dense)               (None, 64)                50240     \n",
      "                                                                 \n",
      " dense_1 (Dense)             (None, 16)                1040      \n",
      "                                                                 \n",
      " dense_2 (Dense)             (None, 10)                170       \n",
      "                                                                 \n",
      "=================================================================\n",
      "Total params: 51,450\n",
      "Trainable params: 51,450\n",
      "Non-trainable params: 0\n",
      "_________________________________________________________________\n"
     ]
    },
    {
     "name": "stderr",
     "output_type": "stream",
     "text": [
      "2022-02-23 14:33:59.089815: I tensorflow/stream_executor/cuda/cuda_gpu_executor.cc:936] successful NUMA node read from SysFS had negative value (-1), but there must be at least one NUMA node, so returning NUMA node zero\n",
      "2022-02-23 14:33:59.090028: W tensorflow/stream_executor/platform/default/dso_loader.cc:64] Could not load dynamic library 'libcudart.so.11.0'; dlerror: libcudart.so.11.0: cannot open shared object file: No such file or directory\n",
      "2022-02-23 14:33:59.090052: W tensorflow/stream_executor/platform/default/dso_loader.cc:64] Could not load dynamic library 'libcublas.so.11'; dlerror: libcublas.so.11: cannot open shared object file: No such file or directory\n",
      "2022-02-23 14:33:59.090073: W tensorflow/stream_executor/platform/default/dso_loader.cc:64] Could not load dynamic library 'libcublasLt.so.11'; dlerror: libcublasLt.so.11: cannot open shared object file: No such file or directory\n",
      "2022-02-23 14:33:59.090093: W tensorflow/stream_executor/platform/default/dso_loader.cc:64] Could not load dynamic library 'libcufft.so.10'; dlerror: libcufft.so.10: cannot open shared object file: No such file or directory\n",
      "2022-02-23 14:33:59.090114: W tensorflow/stream_executor/platform/default/dso_loader.cc:64] Could not load dynamic library 'libcurand.so.10'; dlerror: libcurand.so.10: cannot open shared object file: No such file or directory\n",
      "2022-02-23 14:33:59.090134: W tensorflow/stream_executor/platform/default/dso_loader.cc:64] Could not load dynamic library 'libcusolver.so.11'; dlerror: libcusolver.so.11: cannot open shared object file: No such file or directory\n",
      "2022-02-23 14:33:59.090153: W tensorflow/stream_executor/platform/default/dso_loader.cc:64] Could not load dynamic library 'libcusparse.so.11'; dlerror: libcusparse.so.11: cannot open shared object file: No such file or directory\n",
      "2022-02-23 14:33:59.090175: W tensorflow/stream_executor/platform/default/dso_loader.cc:64] Could not load dynamic library 'libcudnn.so.8'; dlerror: libcudnn.so.8: cannot open shared object file: No such file or directory\n",
      "2022-02-23 14:33:59.090180: W tensorflow/core/common_runtime/gpu/gpu_device.cc:1850] Cannot dlopen some GPU libraries. Please make sure the missing libraries mentioned above are installed properly if you would like to use GPU. Follow the guide at https://www.tensorflow.org/install/gpu for how to download and setup the required libraries for your platform.\n",
      "Skipping registering GPU devices...\n",
      "2022-02-23 14:33:59.090485: I tensorflow/core/platform/cpu_feature_guard.cc:151] This TensorFlow binary is optimized with oneAPI Deep Neural Network Library (oneDNN) to use the following CPU instructions in performance-critical operations:  AVX2 AVX512F FMA\n",
      "To enable them in other operations, rebuild TensorFlow with the appropriate compiler flags.\n"
     ]
    }
   ],
   "source": [
    "model = tf.keras.models.Sequential([\n",
    "    tf.keras.layers.Dense(64, activation='relu', input_shape=[x_train.shape[1]]),\n",
    "    tf.keras.layers.Dense(16, activation='relu'),\n",
    "    tf.keras.layers.Dense(nlabels, activation='softmax'),\n",
    "])\n",
    "loss_fn = tf.keras.losses.SparseCategoricalCrossentropy(from_logits=True)\n",
    "optimizer='adam'\n",
    "model.summary()"
   ]
  },
  {
   "cell_type": "markdown",
   "id": "54959c1b",
   "metadata": {},
   "source": [
    "Now we compile and train the model. It should easily reach ~ 98% of (training) accuracy."
   ]
  },
  {
   "cell_type": "code",
   "execution_count": 7,
   "id": "3a121c4d",
   "metadata": {},
   "outputs": [
    {
     "name": "stdout",
     "output_type": "stream",
     "text": [
      "Epoch 1/10\n",
      "   1/1875 [..............................] - ETA: 6:11 - loss: 2.2866 - accuracy: 0.2500"
     ]
    },
    {
     "name": "stderr",
     "output_type": "stream",
     "text": [
      "/home/felix/.cache/pypoetry/virtualenvs/topologicaluncertainty-FuTyNJF2-py3.9/lib/python3.9/site-packages/tensorflow/python/util/dispatch.py:1082: UserWarning: \"`sparse_categorical_crossentropy` received `from_logits=True`, but the `output` argument was produced by a sigmoid or softmax activation and thus does not represent logits. Was this intended?\"\n",
      "  return dispatch_target(*args, **kwargs)\n"
     ]
    },
    {
     "name": "stdout",
     "output_type": "stream",
     "text": [
      "1875/1875 [==============================] - 1s 630us/step - loss: 0.3157 - accuracy: 0.9092\n",
      "Epoch 2/10\n",
      "1875/1875 [==============================] - 1s 637us/step - loss: 0.1412 - accuracy: 0.9576\n",
      "Epoch 3/10\n",
      "1875/1875 [==============================] - 1s 631us/step - loss: 0.1019 - accuracy: 0.9692\n",
      "Epoch 4/10\n",
      "1875/1875 [==============================] - 1s 624us/step - loss: 0.0803 - accuracy: 0.9755\n",
      "Epoch 5/10\n",
      "1875/1875 [==============================] - 1s 629us/step - loss: 0.0655 - accuracy: 0.9796\n",
      "Epoch 6/10\n",
      "1875/1875 [==============================] - 1s 631us/step - loss: 0.0546 - accuracy: 0.9827\n",
      "Epoch 7/10\n",
      "1875/1875 [==============================] - 1s 627us/step - loss: 0.0470 - accuracy: 0.9848\n",
      "Epoch 8/10\n",
      "1875/1875 [==============================] - 1s 638us/step - loss: 0.0400 - accuracy: 0.9873\n",
      "Epoch 9/10\n",
      "1875/1875 [==============================] - 1s 628us/step - loss: 0.0338 - accuracy: 0.9892\n",
      "Epoch 10/10\n",
      "1875/1875 [==============================] - 1s 629us/step - loss: 0.0328 - accuracy: 0.9891\n"
     ]
    },
    {
     "data": {
      "text/plain": [
       "<keras.callbacks.History at 0x7f57bed4afd0>"
      ]
     },
     "execution_count": 7,
     "metadata": {},
     "output_type": "execute_result"
    }
   ],
   "source": [
    "model.compile(optimizer=optimizer, loss=loss_fn, metrics=['accuracy'])\n",
    "\n",
    "num_epochs = 10\n",
    "model.fit(x_train, y_train, epochs=num_epochs)"
   ]
  },
  {
   "cell_type": "markdown",
   "id": "4a5cc7eb",
   "metadata": {},
   "source": [
    "We briefly check that it did not grossly overfit (this experiment is just for illustrative purpose, we do not aim to have a fine-tuned network). In the following cell, `accuracy` should be about 97%."
   ]
  },
  {
   "cell_type": "code",
   "execution_count": 8,
   "id": "97ff4270",
   "metadata": {},
   "outputs": [
    {
     "name": "stdout",
     "output_type": "stream",
     "text": [
      "313/313 [==============================] - 0s 444us/step - loss: 0.1100 - accuracy: 0.9701\n"
     ]
    },
    {
     "data": {
      "text/plain": [
       "[0.10996943712234497, 0.9700999855995178]"
      ]
     },
     "execution_count": 8,
     "metadata": {},
     "output_type": "execute_result"
    }
   ],
   "source": [
    "model.evaluate(x_test, y_test)"
   ]
  },
  {
   "cell_type": "markdown",
   "id": "7531eb8d",
   "metadata": {},
   "source": [
    "Now, for **each class** and **only the final layer**, we will:\n",
    "- Build the activation graphs for each training observation. Note: there are 6,000 observations per class in MNIST; using all of them may be overkill. In the following, we will only use 100 reference observations for each class, which turns out to be sufficient.\n",
    "- Extract topological features (called _persistence diagrams_) from these activation graphs (which, in our specific setting, can be interpreted as extracting maximum spanning trees from the graphs). \n",
    "- Average these persistence diagrams to have a compact summary of how our training observations (for each class) activated the network. This average is encoded by a Fréchet mean, a.k.a. barycenter, of the corresponding diagrams.\n",
    "\n",
    "Actually, all these three steps are handled by the function `bary_of_set_from_deep_model(model, x, layers_id)`, available from `utils.utils_tda` (imported as `utda` in this notebook). In this function, \n",
    "- `model` is our tensorflow model we have trained above.\n",
    "- `x` is a set of points from which we compute diagrams and average them.\n",
    "- `layers_id` is a subset of the model layers. Setting `layers_id=None` implies taking all layers into account. Here, as we have 3 layers, and we want to consider only the last one, we set `layers_id=[2]`."
   ]
  },
  {
   "cell_type": "code",
   "execution_count": 9,
   "id": "4d66e694",
   "metadata": {},
   "outputs": [],
   "source": [
    "n_obs_per_class = 500\n",
    "\n",
    "# Take n_obs_per_class observation from each class in x_train:\n",
    "xs = [x_train[np.where(y_train == ell)][:n_obs_per_class] for ell in labels]\n",
    "\n",
    "# Now we get the corresponding barycenters.\n",
    "layers_id = [2]\n",
    "all_barycenters = [utda.barycenters_of_set_from_deep_model(model, x, layers_id=layers_id) for x in xs]\n",
    "\n",
    "# and the corresponding mean adjacency matrices\n",
    "\n",
    "all_mean_adjacency_matrices = [utda.mean_adjacency_matrices_from_deep_model(model, x, layers_id=layers_id) for x in xs]"
   ]
  },
  {
   "cell_type": "code",
   "execution_count": 10,
   "id": "0ed33bfb",
   "metadata": {},
   "outputs": [
    {
     "name": "stdout",
     "output_type": "stream",
     "text": [
      "8.250318\n"
     ]
    },
    {
     "data": {
      "text/plain": [
       "(10, 1, 16, 10)"
      ]
     },
     "execution_count": 10,
     "metadata": {},
     "output_type": "execute_result"
    }
   ],
   "source": [
    "print(np.max(np.array(all_mean_adjacency_matrices)))\n",
    "np.array(all_mean_adjacency_matrices).shape"
   ]
  },
  {
   "cell_type": "markdown",
   "id": "ed3d4a9f",
   "metadata": {},
   "source": [
    "Now, given a new observation, we can get the class assigned by our `model` to it, and compute its distance to the barycenter of this class to check if something weird is happening. \n",
    "\n",
    "Let us take, for instance, the first 10 observations of the test set. The first one represents a 7."
   ]
  },
  {
   "cell_type": "code",
   "execution_count": 11,
   "id": "168dfb0a",
   "metadata": {},
   "outputs": [
    {
     "data": {
      "image/png": "[encoded data removed]",
      "text/plain": [
       "<Figure size 1440x216 with 11 Axes>"
      ]
     },
     "metadata": {},
     "output_type": "display_data"
    }
   ],
   "source": [
    "n_new_obs = 11\n",
    "new_obs = x_test[:n_new_obs]\n",
    "fig, axs = plt.subplots(1, n_new_obs, figsize=(20,3))\n",
    "for i,ax in enumerate(axs):\n",
    "    ax.imshow(new_obs[i].reshape(28,28), cmap='Greys')\n",
    "    ax.set_xticks([])\n",
    "    ax.set_yticks([])"
   ]
  },
  {
   "cell_type": "markdown",
   "id": "49d335bb",
   "metadata": {},
   "source": [
    "What does our model predict there?"
   ]
  },
  {
   "cell_type": "code",
   "execution_count": 12,
   "id": "aae62853",
   "metadata": {
    "scrolled": true
   },
   "outputs": [
    {
     "name": "stdout",
     "output_type": "stream",
     "text": [
      "class predicted: 7 (with confidence = 100.0%) --- True label: 7\n",
      "***\n",
      "class predicted: 2 (with confidence = 100.0%) --- True label: 2\n",
      "***\n",
      "class predicted: 1 (with confidence = 100.0%) --- True label: 1\n",
      "***\n",
      "class predicted: 0 (with confidence = 100.0%) --- True label: 0\n",
      "***\n",
      "class predicted: 4 (with confidence = 95.9%) --- True label: 4\n",
      "***\n",
      "class predicted: 1 (with confidence = 100.0%) --- True label: 1\n",
      "***\n",
      "class predicted: 4 (with confidence = 99.9%) --- True label: 4\n",
      "***\n",
      "class predicted: 9 (with confidence = 99.9%) --- True label: 9\n",
      "***\n",
      "class predicted: 6 (with confidence = 42.2%) --- True label: 5\n",
      "***\n",
      "class predicted: 9 (with confidence = 100.0%) --- True label: 9\n",
      "***\n",
      "class predicted: 0 (with confidence = 100.0%) --- True label: 0\n",
      "***\n"
     ]
    }
   ],
   "source": [
    "predicted_classes = np.argmax(model.predict(new_obs), axis=-1)\n",
    "predictions = model.predict(new_obs)\n",
    "confidences = np.max(predictions, axis=-1)\n",
    "true_classes = y_test[:n_new_obs]\n",
    "for i in range(n_new_obs):\n",
    "    print(\"class predicted: %s (with confidence = %s%%) --- True label: %s\" \n",
    "          %(predicted_classes[i], np.round(100*confidences[i], 1), true_classes[i]))\n",
    "    print(\"***\")"
   ]
  },
  {
   "cell_type": "markdown",
   "id": "a7e377d9",
   "metadata": {},
   "source": [
    "Let's plot the confidences per class and overlay them with the prediction (red dot). "
   ]
  },
  {
   "cell_type": "code",
   "execution_count": 13,
   "id": "e9f92694",
   "metadata": {},
   "outputs": [],
   "source": [
    "# print('Standard Confidence:\\nPredicted classes: ', predicted_classes)\n",
    "# plt.imshow(predictions)\n",
    "# plt.scatter(x=predicted_classes, y=list(range(len(predicted_classes))), color='red', s=40)\n",
    "# plt.colorbar()\n",
    "# print('x-axis: class labels,\\ny-axis: input samples\\nred dots: predicted class')"
   ]
  },
  {
   "cell_type": "markdown",
   "id": "0d4b8050",
   "metadata": {},
   "source": [
    "As we can see, our network is correct most of the time (unless one has been very unlucky with the random seed used for training) and is quite confident in its predictions."
   ]
  },
  {
   "cell_type": "markdown",
   "id": "2ce6a3e5",
   "metadata": {},
   "source": [
    "Now, what's the _Topological uncertainty_ of these new observations? That is, what is the distance between the persistence diagrams (of the activation graphs) of these new observations and the barycenters of the corresponding class?"
   ]
  },
  {
   "cell_type": "code",
   "execution_count": 14,
   "id": "91e9835a",
   "metadata": {},
   "outputs": [
    {
     "name": "stdout",
     "output_type": "stream",
     "text": [
      "WARNING:tensorflow:5 out of the last 23 calls to <function Model.make_predict_function.<locals>.predict_function at 0x7f57a40e2670> triggered tf.function retracing. Tracing is expensive and the excessive number of tracings could be due to (1) creating @tf.function repeatedly in a loop, (2) passing tensors with different shapes, (3) passing Python objects instead of tensors. For (1), please define your @tf.function outside of the loop. For (2), @tf.function has experimental_relax_shapes=True option that relaxes argument shapes that can avoid unnecessary retracing. For (3), please refer to https://www.tensorflow.org/guide/function#controlling_retracing and https://www.tensorflow.org/api_docs/python/tf/function for  more details.\n"
     ]
    },
    {
     "data": {
      "text/plain": [
       "array([0.09877641, 0.30692895, 0.22726883, 0.11995644, 0.2955722 ,\n",
       "       0.08616724, 0.15358407, 0.11431551, 0.22220269, 0.31984942,\n",
       "       0.07965519])"
      ]
     },
     "execution_count": 14,
     "metadata": {},
     "output_type": "execute_result"
    }
   ],
   "source": [
    "# First, we compute the diagram of this new observation\n",
    "utda.topological_uncertainty(model, new_obs, all_barycenters, layers_id=layers_id, all_classes=False)"
   ]
  },
  {
   "cell_type": "code",
   "execution_count": 15,
   "id": "d04164e0",
   "metadata": {},
   "outputs": [
    {
     "name": "stdout",
     "output_type": "stream",
     "text": [
      "Topological Uncertainty:\n",
      "Predicted classes:  [7 2 1 0 4 1 4 9 6 9 0]\n",
      "WARNING:tensorflow:6 out of the last 26 calls to <function Model.make_predict_function.<locals>.predict_function at 0x7f57a421b700> triggered tf.function retracing. Tracing is expensive and the excessive number of tracings could be due to (1) creating @tf.function repeatedly in a loop, (2) passing tensors with different shapes, (3) passing Python objects instead of tensors. For (1), please define your @tf.function outside of the loop. For (2), @tf.function has experimental_relax_shapes=True option that relaxes argument shapes that can avoid unnecessary retracing. For (3), please refer to https://www.tensorflow.org/guide/function#controlling_retracing and https://www.tensorflow.org/api_docs/python/tf/function for  more details.\n",
      "x-axis: class labels,\n",
      "y-axis: input samples\n",
      "red dots: predicted class\n"
     ]
    },
    {
     "data": {
      "image/png": "[encoded data removed]",
      "text/plain": [
       "<Figure size 432x288 with 2 Axes>"
      ]
     },
     "metadata": {
      "needs_background": "light"
     },
     "output_type": "display_data"
    }
   ],
   "source": [
    "#predicted_classes = np.argmax(model.predict(new_obs), axis=-1)\n",
    "print('Topological Uncertainty:\\nPredicted classes: ', predicted_classes)\n",
    "TU_pred_class = utda.topological_uncertainty(model, new_obs, all_barycenters, layers_id=layers_id, all_classes=False)\n",
    "TU = utda.topological_uncertainty(model, new_obs, all_barycenters, layers_id=layers_id, all_classes=True)\n",
    "im = plt.imshow(TU)\n",
    "plt.colorbar(im)\n",
    "plt.scatter(x=predicted_classes, y=list(range(len(predicted_classes))), color='red', s=40)\n",
    "print('x-axis: class labels,\\ny-axis: input samples\\nred dots: predicted class')"
   ]
  },
  {
   "cell_type": "code",
   "execution_count": 16,
   "id": "3850a82a",
   "metadata": {},
   "outputs": [],
   "source": [
    "# utda.topological_difference(model, new_obs, all_mean_adjacency_matrices, layers_id=layers_id, all_classes=False)\n",
    "# all_mean_adjacency_matrices[1].shape"
   ]
  },
  {
   "cell_type": "code",
   "execution_count": 36,
   "id": "15e93d2b",
   "metadata": {},
   "outputs": [
    {
     "name": "stdout",
     "output_type": "stream",
     "text": [
      "Topological Difference:\n",
      "Predicted classes:  [7 2 1 0 4 1 4 9 6 9 0]\n",
      "x-axis: class labels,\n",
      "y-axis: input samples\n",
      "red dots: predicted class\n"
     ]
    },
    {
     "data": {
      "image/png": "[encoded data removed]",
      "text/plain": [
       "<Figure size 432x288 with 2 Axes>"
      ]
     },
     "metadata": {
      "needs_background": "light"
     },
     "output_type": "display_data"
    }
   ],
   "source": [
    "print('Topological Difference:\\nPredicted classes: ', predicted_classes)\n",
    "TD_pred_class = utda.topological_difference(model, new_obs, all_mean_adjacency_matrices, layers_id=layers_id, all_classes=False, absolute_value=True)\n",
    "TD, diags, adjacency_matrices, matrix_diff = utda.topological_difference(model, new_obs, all_mean_adjacency_matrices, layers_id=layers_id, all_classes=True, absolute_value=True)\n",
    "im = plt.imshow(TD)\n",
    "plt.colorbar(im)\n",
    "plt.scatter(x=predicted_classes, y=list(range(len(predicted_classes))), color='red', s=40)\n",
    "print('x-axis: class labels,\\ny-axis: input samples\\nred dots: predicted class')"
   ]
  },
  {
   "cell_type": "code",
   "execution_count": 18,
   "id": "e7731ea6",
   "metadata": {},
   "outputs": [
    {
     "data": {
      "text/plain": [
       "(11, 10)"
      ]
     },
     "execution_count": 18,
     "metadata": {},
     "output_type": "execute_result"
    }
   ],
   "source": [
    "TD.shape"
   ]
  },
  {
   "cell_type": "code",
   "execution_count": 37,
   "id": "abdf161e",
   "metadata": {},
   "outputs": [
    {
     "name": "stdout",
     "output_type": "stream",
     "text": [
      "Max value of adjacency matrices: 9.417572\n"
     ]
    },
    {
     "data": {
      "text/plain": [
       "(11, 1, 16, 10)"
      ]
     },
     "execution_count": 37,
     "metadata": {},
     "output_type": "execute_result"
    }
   ],
   "source": [
    "#np.max(np.abs(np.array(diags)))\n",
    "print('Max value of adjacency matrices:', np.max(np.array(adjacency_matrices)))\n",
    "np.array(adjacency_matrices).shape"
   ]
  },
  {
   "cell_type": "code",
   "execution_count": 38,
   "id": "26469be2",
   "metadata": {},
   "outputs": [],
   "source": [
    "# print(np.array(all_mean_adjacency_matrices[1][0]).shape)\n",
    "# (adjacency_matrices[2][0] - all_mean_adjacency_matrices[1][0]).shape"
   ]
  },
  {
   "cell_type": "code",
   "execution_count": 41,
   "id": "ba8dc478",
   "metadata": {},
   "outputs": [
    {
     "name": "stdout",
     "output_type": "stream",
     "text": [
      "(10, 11, 1, 16, 10)\n"
     ]
    },
    {
     "data": {
      "text/plain": [
       "20.120087"
      ]
     },
     "execution_count": 41,
     "metadata": {},
     "output_type": "execute_result"
    }
   ],
   "source": [
    "print(np.array(matrix_diff).shape)\n",
    "np.max(np.array(matrix_diff))"
   ]
  },
  {
   "cell_type": "code",
   "execution_count": 40,
   "id": "a3cfba02",
   "metadata": {},
   "outputs": [
    {
     "name": "stdout",
     "output_type": "stream",
     "text": [
      "(10, 11, 1, 15)\n"
     ]
    },
    {
     "data": {
      "text/plain": [
       "131072.00000094093"
      ]
     },
     "execution_count": 40,
     "metadata": {},
     "output_type": "execute_result"
    }
   ],
   "source": [
    "print(np.array(diags).shape)\n",
    "np.max(np.array(diags))"
   ]
  },
  {
   "cell_type": "code",
   "execution_count": 29,
   "id": "c2e36fc3",
   "metadata": {},
   "outputs": [
    {
     "data": {
      "image/png": "[encoded data removed]",
      "text/plain": [
       "<Figure size 1728x432 with 4 Axes>"
      ]
     },
     "metadata": {
      "needs_background": "light"
     },
     "output_type": "display_data"
    }
   ],
   "source": [
    "# Let's see the effect of the choice of 'p' in [1,+inf].\n",
    "p_s = [1., 2., 3., np.inf]\n",
    "fig, axs = plt.subplots(1, len(p_s), figsize=(24, 6))\n",
    "for ix,p in enumerate(p_s):\n",
    "    TD, diags, _, _ = utda.topological_difference(model, new_obs, all_mean_adjacency_matrices, layers_id=layers_id, p=p, all_classes=True, absolute_value=True)\n",
    "    im = axs[ix].imshow(TD)\n",
    "    axs[ix].scatter(x=predicted_classes, y=list(range(len(predicted_classes))), color='red', s=40)\n",
    "    axs[ix].set_title(f'TD for p = {p}')\n",
    "    #plt.colorbar(im)\n",
    "#fig.colorbar(axs)"
   ]
  },
  {
   "cell_type": "code",
   "execution_count": null,
   "id": "33fc8d3a",
   "metadata": {},
   "outputs": [],
   "source": [
    "np.array(all_mean_adjacency_matrices).shape"
   ]
  },
  {
   "cell_type": "code",
   "execution_count": null,
   "id": "0238d770",
   "metadata": {},
   "outputs": [],
   "source": [
    "# We now define cumulative version of TU, where we sum up the TU w.r.t. each non-predicted class and subtract the TU w.r.t. the predicted class.\n",
    "\n",
    "TU[list(range(len(predicted_classes))), predicted_classes] *= -1\n",
    "# TU *= -1\n",
    "TU_cumulative = np.sum(TU, axis=1)\n",
    "\n",
    "\n",
    "#We do the same for TD:\n",
    "TD[list(range(len(predicted_classes))), predicted_classes] *= -1\n",
    "# TD *= -1\n",
    "TD_cumulative = np.sum(TD, axis=1)\n",
    "print('TU cumulative:\\n', TU_cumulative)\n",
    "print('TD cumulative:\\n', TD_cumulative)"
   ]
  },
  {
   "cell_type": "markdown",
   "id": "c8e68a47",
   "metadata": {},
   "source": [
    "To get an idea of what these values represent, let us look at how our model reacts to Out-of-distribution data coming from the `Fashion MNIST` dataset."
   ]
  },
  {
   "cell_type": "code",
   "execution_count": null,
   "id": "562fcc07",
   "metadata": {
    "scrolled": true
   },
   "outputs": [],
   "source": [
    "fmnist = tf.keras.datasets.fashion_mnist\n",
    "\n",
    "(x_train_fmnist, y_train_fmnist) = fmnist.load_data()[0]\n",
    "x_train_fmnist = x_train_fmnist / 255.0\n",
    "x_train_fmnist = x_train_fmnist.reshape(len(x_train_fmnist), 784)\n",
    "\n",
    "nplots = 10\n",
    "fix, axs = plt.subplots(1, nplots, figsize=(20,3))\n",
    "\n",
    "for i, ax in enumerate(axs):\n",
    "    (ax.imshow(x_train_fmnist[i].reshape(28,28), cmap='Greys'), ax.set_xticks([]), ax.set_yticks([]))"
   ]
  },
  {
   "cell_type": "code",
   "execution_count": null,
   "id": "864bf6be",
   "metadata": {},
   "outputs": [],
   "source": [
    "ood_samples = x_train_fmnist[:10]\n",
    "predictions = model.predict(ood_samples)\n",
    "predicted_classes_ood = np.argmax(predictions, axis=-1)\n",
    "confidences = np.max(predictions, axis=-1)"
   ]
  },
  {
   "cell_type": "code",
   "execution_count": null,
   "id": "f482f134",
   "metadata": {},
   "outputs": [],
   "source": [
    "# print('Standard Confidence:\\nPredicted classes: ', predicted_classes)\n",
    "# plt.imshow(predictions)\n",
    "# plt.scatter(x=predicted_classes, y=list(range(len(predicted_classes))), color='red', s=40)\n",
    "# plt.colorbar()\n",
    "# print('x-axis: class labels,\\ny-axis: input samples\\nred dots: predicted class')"
   ]
  },
  {
   "cell_type": "code",
   "execution_count": null,
   "id": "4ae8f5ac",
   "metadata": {},
   "outputs": [],
   "source": [
    "print('Topological Uncertainty\\nPredicted classes: ', predicted_classes)\n",
    "TU_ood_pred_class = utda.topological_uncertainty(model, ood_samples, all_barycenters, layers_id=layers_id, all_classes=False)\n",
    "TU_ood = utda.topological_uncertainty(model, ood_samples, all_barycenters, layers_id=layers_id, all_classes=True)\n",
    "plt.imshow(TU_ood)\n",
    "plt.scatter(x=predicted_classes_ood, y=list(range(len(predicted_classes))), color='red', s=40)\n",
    "plt.colorbar()\n",
    "print('x-axis: class labels,\\ny-axis: input samples\\nred dots: predicted class')"
   ]
  },
  {
   "cell_type": "code",
   "execution_count": null,
   "id": "e595add1",
   "metadata": {},
   "outputs": [],
   "source": [
    "print('Topological Difference:\\nPredicted classes: ', predicted_classes)\n",
    "TD_ood_pred_class = utda.topological_difference(model, ood_samples, all_mean_adjacency_matrices, layers_id=layers_id, all_classes=False, absolute_value=True)\n",
    "TD_ood, _ = utda.topological_difference(model, ood_samples, all_mean_adjacency_matrices, layers_id=layers_id, all_classes=True, absolute_value=True)\n",
    "plt.imshow(TD_ood)\n",
    "plt.scatter(x=predicted_classes_ood, y=list(range(len(predicted_classes))), color='red', s=40)\n",
    "plt.colorbar()\n",
    "print('x-axis: class labels,\\ny-axis: input samples\\nred dots: predicted class')"
   ]
  },
  {
   "cell_type": "code",
   "execution_count": null,
   "id": "748402aa",
   "metadata": {},
   "outputs": [],
   "source": [
    "# # We now define cumulative version of TU, where we sum up the TU w.r.t. each non-predicted class and subtract the TU w.r.t. the predicted class.\n",
    "\n",
    "# TU_ood[list(range(len(predicted_classes))), predicted_classes] *= -1\n",
    "# # TU_ood *= -1\n",
    "# TU_ood_cumulative = np.sum(TU_ood, axis=1)\n",
    "\n",
    "\n",
    "# #We do the same for TD:\n",
    "# TD_ood[list(range(len(predicted_classes))), predicted_classes] *= -1\n",
    "# # TD_ood *= -1\n",
    "# TD_ood_cumulative = np.sum(TD_ood, axis=1)\n",
    "\n",
    "# print('TU:\\n', TU_pred_class)\n",
    "# print('TU ood:\\n', TU_ood_pred_class)\n",
    "# print('TU cumulative:\\n', TU_cumulative)\n",
    "# print('TU ood cumulative:\\n', TU_ood_cumulative)\n",
    "# print('TD:\\n', TD_pred_class)\n",
    "# print('TD ood:\\n', TD_ood_pred_class)\n",
    "# print('TD cumulative:\\n', TD_cumulative)\n",
    "# print('TD ood cumulative:\\n', TD_ood_cumulative)"
   ]
  },
  {
   "cell_type": "code",
   "execution_count": null,
   "id": "ec4b33e4",
   "metadata": {},
   "outputs": [],
   "source": [
    "# fig, axs = plt.subplots(2, 3, figsize=(24, 6))\n",
    "# x = list(range(len(TU_pred_class)))\n",
    "\n",
    "# axs[0,0].scatter(x, TU_pred_class, color='blue', alpha=0.75, label='TU')\n",
    "# axs[0,1].scatter(x, TU_cumulative, color='blue', alpha=0.75, label='TU cumulative')\n",
    "# # axs[0,0].scatter(x, TU_ood_pred_class, color='red', alpha=0.75, label='TU ood')\n",
    "# # axs[0,0].scatter(x, TU_ood_cumulative, color='black', alpha=0.75, label='TU ood cumulative')\n",
    "\n",
    "# axs[0,0].scatter(x, TD_pred_class, color='green', alpha=0.75, label='TD')\n",
    "# axs[0,1].scatter(x, TD_cumulative, color='green', alpha=0.75, label='TD cumulative')\n",
    "# # axs[0,1].scatter(x, TD_ood_pred_class, color='red', alpha=0.75, label='TD ood')\n",
    "# # axs[0,1].scatter(x, TD_ood_cumulative, color='black', alpha=0.75, label='TD ood cumulative')\n",
    "\n",
    "# # axs[1,0].scatter(x, TU_pred_class, color='blue', alpha=0.75, label='TU')\n",
    "# # axs[1,0].scatter(x, TU_cumulative, color='green', alpha=0.75, label='TU cumulative')\n",
    "# axs[1,0].scatter(x, TU_ood_pred_class, color='red', alpha=0.75, label='TU ood')\n",
    "# axs[1,1].scatter(x, TU_ood_cumulative, color='red', alpha=0.75, label='TU ood cumulative')\n",
    "\n",
    "# # axs[1,1].scatter(x, TD_pred_class, color='blue', alpha=0.75, label='TD')\n",
    "# # axs[1,1].scatter(x, TD_cumulative, color='green', alpha=0.75, label='TD cumulative')\n",
    "# axs[1,0].scatter(x, TD_ood_pred_class, color='black', alpha=0.75, label='TD ood')\n",
    "# axs[1,1].scatter(x, TD_ood_cumulative, color='black', alpha=0.75, label='TD ood cumulative')\n",
    "\n",
    "# axs[0,2].scatter(x, TU_ood_pred_class - TU_pred_class, color='black', alpha=0.75, label='TU ood - TU')\n",
    "# axs[0,2].scatter(x, TD_ood_pred_class - TD_pred_class, color='red', alpha=0.75, label='TD ood - TD')\n",
    "\n",
    "# axs[1,2].scatter(x, TU_ood_cumulative - TU_cumulative, color='black', alpha=0.75, label='TU ood cum - TU cum')\n",
    "# axs[1,2].scatter(x, TD_ood_cumulative - TD_cumulative, color='red', alpha=0.75, label='TD ood cum - TD cum')\n",
    "\n",
    "# axs[0,0].legend(fontsize=12)\n",
    "# axs[0,1].legend(fontsize=12)\n",
    "# axs[1,0].legend(fontsize=12)\n",
    "# axs[1,1].legend(fontsize=12)\n",
    "# axs[0,2].legend(fontsize=12)\n",
    "# axs[1,2].legend(fontsize=12)\n",
    "\n",
    "# plt.show()"
   ]
  },
  {
   "cell_type": "markdown",
   "id": "28f97817",
   "metadata": {},
   "source": [
    "As one can see, these values are much higher (except perhaps for the 9th image). This way, topological uncertainty can be used as a way to detect out-of-distribution samples. One may wonder if this could be read in the confidence of the network directly..."
   ]
  },
  {
   "cell_type": "code",
   "execution_count": null,
   "id": "79c3a597",
   "metadata": {},
   "outputs": [],
   "source": [
    "ood_confidences = np.max(model.predict(ood_samples), axis=-1)\n",
    "print(ood_confidences)"
   ]
  },
  {
   "cell_type": "markdown",
   "id": "9ab2864b",
   "metadata": {},
   "source": [
    "For most predictions, the network remains extremely confident in its predictions (while, of course, the prediction itself does not make sense)! Thus, confidence cannot be used as a reliable way to detect Out-of-Distribution samples while TU can help there."
   ]
  }
 ],
 "metadata": {
  "kernelspec": {
   "display_name": "Python 3 (ipykernel)",
   "language": "python",
   "name": "python3"
  },
  "language_info": {
   "codemirror_mode": {
    "name": "ipython",
    "version": 3
   },
   "file_extension": ".py",
   "mimetype": "text/x-python",
   "name": "python",
   "nbconvert_exporter": "python",
   "pygments_lexer": "ipython3",
   "version": "3.9.7"
  }
 },
 "nbformat": 4,
 "nbformat_minor": 5
}
