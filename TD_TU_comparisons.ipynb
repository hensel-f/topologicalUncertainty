{
 "cells": [
  {
   "cell_type": "markdown",
   "id": "280d8685",
   "metadata": {},
   "source": [
    "# Topological Uncertainty and Topological Difference"
   ]
  },
  {
   "cell_type": "markdown",
   "id": "e22a34b4",
   "metadata": {},
   "source": [
    "**Goal:** We want to experimentally test the differences between Topological Uncertainty (TD) and Topological DIfference (TD)."
   ]
  },
  {
   "cell_type": "markdown",
   "id": "5a2c689e",
   "metadata": {},
   "source": [
    "### Import libraries"
   ]
  },
  {
   "cell_type": "code",
   "execution_count": 1,
   "id": "6adb1d2d",
   "metadata": {},
   "outputs": [],
   "source": [
    "%matplotlib inline\n",
    "%load_ext autoreload\n",
    "%autoreload 2"
   ]
  },
  {
   "cell_type": "markdown",
   "id": "f1cec591",
   "metadata": {},
   "source": [
    "Import from external libraries."
   ]
  },
  {
   "cell_type": "code",
   "execution_count": 2,
   "id": "926080b2",
   "metadata": {},
   "outputs": [],
   "source": [
    "import numpy as np\n",
    "import matplotlib.pylab as plt"
   ]
  },
  {
   "cell_type": "markdown",
   "id": "1e502be8",
   "metadata": {},
   "source": [
    "Import our implementation to compute topological uncertainty"
   ]
  },
  {
   "cell_type": "code",
   "execution_count": 3,
   "id": "d6985b74",
   "metadata": {},
   "outputs": [
    {
     "name": "stderr",
     "output_type": "stream",
     "text": [
      "2022-02-25 16:53:15.158243: W tensorflow/stream_executor/platform/default/dso_loader.cc:64] Could not load dynamic library 'libcudart.so.11.0'; dlerror: libcudart.so.11.0: cannot open shared object file: No such file or directory\n",
      "2022-02-25 16:53:15.158259: I tensorflow/stream_executor/cuda/cudart_stub.cc:29] Ignore above cudart dlerror if you do not have a GPU set up on your machine.\n"
     ]
    }
   ],
   "source": [
    "import utils.utils_graphs as ug\n",
    "import utils.utils_notebook as unb\n",
    "import utils.utils_tda as utda"
   ]
  },
  {
   "cell_type": "markdown",
   "id": "7170cc74",
   "metadata": {},
   "source": [
    "# 2. Topological uncertainty on tensorflow neural network"
   ]
  },
  {
   "cell_type": "markdown",
   "id": "0964b3b6",
   "metadata": {},
   "source": [
    "For this section, you need `tensorflow 2` installed."
   ]
  },
  {
   "cell_type": "code",
   "execution_count": 4,
   "id": "8a6c146f",
   "metadata": {},
   "outputs": [],
   "source": [
    "import tensorflow as tf"
   ]
  },
  {
   "cell_type": "markdown",
   "id": "820d6ea2",
   "metadata": {},
   "source": [
    "## 2.1 A First example"
   ]
  },
  {
   "cell_type": "markdown",
   "id": "e78505b4",
   "metadata": {},
   "source": [
    "We briefly show how you can use TU on a simple tensorflow sequential network. We showcase this using the MNIST dataset."
   ]
  },
  {
   "cell_type": "code",
   "execution_count": 5,
   "id": "0de9bc7f",
   "metadata": {},
   "outputs": [],
   "source": [
    "mnist = tf.keras.datasets.mnist\n",
    "\n",
    "(x_train, y_train), (x_test, y_test) = mnist.load_data()\n",
    "x_train = x_train / 255.0\n",
    "x_train = x_train.reshape(len(x_train), 784)\n",
    "\n",
    "x_test = x_test / 255.0\n",
    "x_test = x_test.reshape(len(x_test), 784)\n",
    "\n",
    "labels = np.unique(y_train)\n",
    "nlabels = len(labels)"
   ]
  },
  {
   "cell_type": "markdown",
   "id": "ca417eaa",
   "metadata": {},
   "source": [
    "We know build a tensorflow model with 2 hidden layers with 64 and 16 units, respectively."
   ]
  },
  {
   "cell_type": "code",
   "execution_count": 6,
   "id": "f409ec6c",
   "metadata": {},
   "outputs": [
    {
     "name": "stdout",
     "output_type": "stream",
     "text": [
      "Model: \"sequential\"\n",
      "_________________________________________________________________\n",
      " Layer (type)                Output Shape              Param #   \n",
      "=================================================================\n",
      " dense (Dense)               (None, 64)                50240     \n",
      "                                                                 \n",
      " dense_1 (Dense)             (None, 16)                1040      \n",
      "                                                                 \n",
      " dense_2 (Dense)             (None, 10)                170       \n",
      "                                                                 \n",
      "=================================================================\n",
      "Total params: 51,450\n",
      "Trainable params: 51,450\n",
      "Non-trainable params: 0\n",
      "_________________________________________________________________\n"
     ]
    },
    {
     "name": "stderr",
     "output_type": "stream",
     "text": [
      "2022-02-25 16:53:16.284817: I tensorflow/stream_executor/cuda/cuda_gpu_executor.cc:936] successful NUMA node read from SysFS had negative value (-1), but there must be at least one NUMA node, so returning NUMA node zero\n",
      "2022-02-25 16:53:16.284997: W tensorflow/stream_executor/platform/default/dso_loader.cc:64] Could not load dynamic library 'libcudart.so.11.0'; dlerror: libcudart.so.11.0: cannot open shared object file: No such file or directory\n",
      "2022-02-25 16:53:16.285021: W tensorflow/stream_executor/platform/default/dso_loader.cc:64] Could not load dynamic library 'libcublas.so.11'; dlerror: libcublas.so.11: cannot open shared object file: No such file or directory\n",
      "2022-02-25 16:53:16.285040: W tensorflow/stream_executor/platform/default/dso_loader.cc:64] Could not load dynamic library 'libcublasLt.so.11'; dlerror: libcublasLt.so.11: cannot open shared object file: No such file or directory\n",
      "2022-02-25 16:53:16.285060: W tensorflow/stream_executor/platform/default/dso_loader.cc:64] Could not load dynamic library 'libcufft.so.10'; dlerror: libcufft.so.10: cannot open shared object file: No such file or directory\n",
      "2022-02-25 16:53:16.285078: W tensorflow/stream_executor/platform/default/dso_loader.cc:64] Could not load dynamic library 'libcurand.so.10'; dlerror: libcurand.so.10: cannot open shared object file: No such file or directory\n",
      "2022-02-25 16:53:16.285096: W tensorflow/stream_executor/platform/default/dso_loader.cc:64] Could not load dynamic library 'libcusolver.so.11'; dlerror: libcusolver.so.11: cannot open shared object file: No such file or directory\n",
      "2022-02-25 16:53:16.285114: W tensorflow/stream_executor/platform/default/dso_loader.cc:64] Could not load dynamic library 'libcusparse.so.11'; dlerror: libcusparse.so.11: cannot open shared object file: No such file or directory\n",
      "2022-02-25 16:53:16.285132: W tensorflow/stream_executor/platform/default/dso_loader.cc:64] Could not load dynamic library 'libcudnn.so.8'; dlerror: libcudnn.so.8: cannot open shared object file: No such file or directory\n",
      "2022-02-25 16:53:16.285137: W tensorflow/core/common_runtime/gpu/gpu_device.cc:1850] Cannot dlopen some GPU libraries. Please make sure the missing libraries mentioned above are installed properly if you would like to use GPU. Follow the guide at https://www.tensorflow.org/install/gpu for how to download and setup the required libraries for your platform.\n",
      "Skipping registering GPU devices...\n",
      "2022-02-25 16:53:16.285531: I tensorflow/core/platform/cpu_feature_guard.cc:151] This TensorFlow binary is optimized with oneAPI Deep Neural Network Library (oneDNN) to use the following CPU instructions in performance-critical operations:  AVX2 AVX512F FMA\n",
      "To enable them in other operations, rebuild TensorFlow with the appropriate compiler flags.\n"
     ]
    }
   ],
   "source": [
    "model = tf.keras.models.Sequential([\n",
    "    tf.keras.layers.Dense(64, activation='relu', input_shape=[x_train.shape[1]]),\n",
    "    tf.keras.layers.Dense(16, activation='relu'),\n",
    "    tf.keras.layers.Dense(nlabels, activation='softmax'),\n",
    "])\n",
    "loss_fn = tf.keras.losses.SparseCategoricalCrossentropy(from_logits=True)\n",
    "optimizer='adam'\n",
    "model.summary()"
   ]
  },
  {
   "cell_type": "markdown",
   "id": "54959c1b",
   "metadata": {},
   "source": [
    "Now we compile and train the model. It should easily reach ~ 98% of (training) accuracy."
   ]
  },
  {
   "cell_type": "code",
   "execution_count": 7,
   "id": "3a121c4d",
   "metadata": {},
   "outputs": [
    {
     "name": "stdout",
     "output_type": "stream",
     "text": [
      "Epoch 1/10\n",
      "   1/1875 [..............................] - ETA: 5:48 - loss: 2.4261 - accuracy: 0.0312"
     ]
    },
    {
     "name": "stderr",
     "output_type": "stream",
     "text": [
      "/home/felix/.cache/pypoetry/virtualenvs/topologicaluncertainty-FuTyNJF2-py3.9/lib/python3.9/site-packages/tensorflow/python/util/dispatch.py:1082: UserWarning: \"`sparse_categorical_crossentropy` received `from_logits=True`, but the `output` argument was produced by a sigmoid or softmax activation and thus does not represent logits. Was this intended?\"\n",
      "  return dispatch_target(*args, **kwargs)\n"
     ]
    },
    {
     "name": "stdout",
     "output_type": "stream",
     "text": [
      "1875/1875 [==============================] - 1s 596us/step - loss: 0.3345 - accuracy: 0.9048\n",
      "Epoch 2/10\n",
      "1875/1875 [==============================] - 1s 600us/step - loss: 0.1494 - accuracy: 0.9563\n",
      "Epoch 3/10\n",
      "1875/1875 [==============================] - 1s 596us/step - loss: 0.1095 - accuracy: 0.9673\n",
      "Epoch 4/10\n",
      "1875/1875 [==============================] - 1s 592us/step - loss: 0.0881 - accuracy: 0.9732\n",
      "Epoch 5/10\n",
      "1875/1875 [==============================] - 1s 598us/step - loss: 0.0712 - accuracy: 0.9780\n",
      "Epoch 6/10\n",
      "1875/1875 [==============================] - 1s 591us/step - loss: 0.0614 - accuracy: 0.9807\n",
      "Epoch 7/10\n",
      "1875/1875 [==============================] - 1s 593us/step - loss: 0.0518 - accuracy: 0.9840\n",
      "Epoch 8/10\n",
      "1875/1875 [==============================] - 1s 591us/step - loss: 0.0455 - accuracy: 0.9857\n",
      "Epoch 9/10\n",
      "1875/1875 [==============================] - 1s 588us/step - loss: 0.0395 - accuracy: 0.9876\n",
      "Epoch 10/10\n",
      "1875/1875 [==============================] - 1s 593us/step - loss: 0.0361 - accuracy: 0.9885\n"
     ]
    },
    {
     "data": {
      "text/plain": [
       "<keras.callbacks.History at 0x7f6f7a9f9b80>"
      ]
     },
     "execution_count": 7,
     "metadata": {},
     "output_type": "execute_result"
    }
   ],
   "source": [
    "model.compile(optimizer=optimizer, loss=loss_fn, metrics=['accuracy'])\n",
    "\n",
    "num_epochs = 10\n",
    "model.fit(x_train, y_train, epochs=num_epochs)"
   ]
  },
  {
   "cell_type": "markdown",
   "id": "4a5cc7eb",
   "metadata": {},
   "source": [
    "We briefly check that it did not grossly overfit (this experiment is just for illustrative purpose, we do not aim to have a fine-tuned network). In the following cell, `accuracy` should be about 97%."
   ]
  },
  {
   "cell_type": "code",
   "execution_count": 8,
   "id": "97ff4270",
   "metadata": {},
   "outputs": [
    {
     "name": "stdout",
     "output_type": "stream",
     "text": [
      "313/313 [==============================] - 0s 413us/step - loss: 0.0961 - accuracy: 0.9732\n"
     ]
    },
    {
     "data": {
      "text/plain": [
       "[0.0961277186870575, 0.9732000231742859]"
      ]
     },
     "execution_count": 8,
     "metadata": {},
     "output_type": "execute_result"
    }
   ],
   "source": [
    "model.evaluate(x_test, y_test)"
   ]
  },
  {
   "cell_type": "markdown",
   "id": "7531eb8d",
   "metadata": {},
   "source": [
    "Now, for **each class** and **only the final layer**, we will:\n",
    "- Build the activation graphs for each training observation. Note: there are 6,000 observations per class in MNIST; using all of them may be overkill. In the following, we will only use 100 reference observations for each class, which turns out to be sufficient.\n",
    "- Extract topological features (called _persistence diagrams_) from these activation graphs (which, in our specific setting, can be interpreted as extracting maximum spanning trees from the graphs). \n",
    "- Average these persistence diagrams to have a compact summary of how our training observations (for each class) activated the network. This average is encoded by a Fréchet mean, a.k.a. barycenter, of the corresponding diagrams.\n",
    "\n",
    "Actually, all these three steps are handled by the function `bary_of_set_from_deep_model(model, x, layers_id)`, available from `utils.utils_tda` (imported as `utda` in this notebook). In this function, \n",
    "- `model` is our tensorflow model we have trained above.\n",
    "- `x` is a set of points from which we compute diagrams and average them.\n",
    "- `layers_id` is a subset of the model layers. Setting `layers_id=None` implies taking all layers into account. Here, as we have 3 layers, and we want to consider only the last one, we set `layers_id=[2]`."
   ]
  },
  {
   "cell_type": "code",
   "execution_count": 9,
   "id": "4d66e694",
   "metadata": {},
   "outputs": [],
   "source": [
    "n_obs_per_class = 500\n",
    "\n",
    "# Take n_obs_per_class observation from each class in x_train:\n",
    "xs = [x_train[np.where(y_train == ell)][:n_obs_per_class] for ell in labels]\n",
    "\n",
    "# Now we get the corresponding barycenters.\n",
    "layers_id = [1]\n",
    "all_barycenters = [utda.barycenters_of_set_from_deep_model(model, x, layers_id=layers_id) for x in xs]\n",
    "\n",
    "# and the corresponding mean adjacency matrices\n",
    "\n",
    "all_mean_adjacency_matrices = [utda.mean_adjacency_matrices_from_deep_model(model, x, layers_id=layers_id) for x in xs]"
   ]
  },
  {
   "cell_type": "code",
   "execution_count": 10,
   "id": "d51101b4",
   "metadata": {},
   "outputs": [
    {
     "name": "stdout",
     "output_type": "stream",
     "text": [
      "3.820084\n"
     ]
    },
    {
     "data": {
      "text/plain": [
       "(10, 1, 64, 16)"
      ]
     },
     "execution_count": 10,
     "metadata": {},
     "output_type": "execute_result"
    }
   ],
   "source": [
    "print(np.max(np.array(all_mean_adjacency_matrices)))\n",
    "np.array(all_mean_adjacency_matrices).shape"
   ]
  },
  {
   "cell_type": "markdown",
   "id": "ed3d4a9f",
   "metadata": {},
   "source": [
    "Now, given a new observation, we can get the class assigned by our `model` to it, and compute its distance to the barycenter of this class to check if something weird is happening. \n",
    "\n",
    "Let us take, for instance, the first 10 observations of the test set. The first one represents a 7."
   ]
  },
  {
   "cell_type": "code",
   "execution_count": 11,
   "id": "168dfb0a",
   "metadata": {},
   "outputs": [
    {
     "data": {
      "image/png": "[encoded data removed]",
      "text/plain": [
       "<Figure size 1440x216 with 11 Axes>"
      ]
     },
     "metadata": {},
     "output_type": "display_data"
    }
   ],
   "source": [
    "n_new_obs = 11\n",
    "new_obs = x_test[:n_new_obs]\n",
    "fig, axs = plt.subplots(1, n_new_obs, figsize=(20,3))\n",
    "for i,ax in enumerate(axs):\n",
    "    ax.imshow(new_obs[i].reshape(28,28), cmap='Greys')\n",
    "    ax.set_xticks([])\n",
    "    ax.set_yticks([])"
   ]
  },
  {
   "cell_type": "markdown",
   "id": "49d335bb",
   "metadata": {},
   "source": [
    "What does our model predict there?"
   ]
  },
  {
   "cell_type": "code",
   "execution_count": 12,
   "id": "aae62853",
   "metadata": {
    "scrolled": true
   },
   "outputs": [
    {
     "name": "stdout",
     "output_type": "stream",
     "text": [
      "class predicted: 7 (with confidence = 100.0%) --- True label: 7\n",
      "***\n",
      "class predicted: 2 (with confidence = 100.0%) --- True label: 2\n",
      "***\n",
      "class predicted: 1 (with confidence = 99.8%) --- True label: 1\n",
      "***\n",
      "class predicted: 0 (with confidence = 100.0%) --- True label: 0\n",
      "***\n",
      "class predicted: 4 (with confidence = 99.8%) --- True label: 4\n",
      "***\n",
      "class predicted: 1 (with confidence = 100.0%) --- True label: 1\n",
      "***\n",
      "class predicted: 4 (with confidence = 99.4%) --- True label: 4\n",
      "***\n",
      "class predicted: 9 (with confidence = 100.0%) --- True label: 9\n",
      "***\n",
      "class predicted: 6 (with confidence = 74.9%) --- True label: 5\n",
      "***\n",
      "class predicted: 9 (with confidence = 99.8%) --- True label: 9\n",
      "***\n",
      "class predicted: 0 (with confidence = 100.0%) --- True label: 0\n",
      "***\n"
     ]
    }
   ],
   "source": [
    "predicted_classes = np.argmax(model.predict(new_obs), axis=-1)\n",
    "predictions = model.predict(new_obs)\n",
    "confidences = np.max(predictions, axis=-1)\n",
    "true_classes = y_test[:n_new_obs]\n",
    "for i in range(n_new_obs):\n",
    "    print(\"class predicted: %s (with confidence = %s%%) --- True label: %s\" \n",
    "          %(predicted_classes[i], np.round(100*confidences[i], 1), true_classes[i]))\n",
    "    print(\"***\")"
   ]
  },
  {
   "cell_type": "markdown",
   "id": "c61d5875",
   "metadata": {},
   "source": [
    "We will also load dome OOD samples from the Fashion MNIST dataset:"
   ]
  },
  {
   "cell_type": "code",
   "execution_count": 13,
   "id": "562fcc07",
   "metadata": {
    "scrolled": true
   },
   "outputs": [
    {
     "data": {
      "image/png": "[encoded data removed]",
      "text/plain": [
       "<Figure size 1440x216 with 10 Axes>"
      ]
     },
     "metadata": {},
     "output_type": "display_data"
    }
   ],
   "source": [
    "fmnist = tf.keras.datasets.fashion_mnist\n",
    "\n",
    "(x_train_fmnist, y_train_fmnist) = fmnist.load_data()[0]\n",
    "x_train_fmnist = x_train_fmnist / 255.0\n",
    "x_train_fmnist = x_train_fmnist.reshape(len(x_train_fmnist), 784)\n",
    "\n",
    "nplots = 10\n",
    "fix, axs = plt.subplots(1, nplots, figsize=(20,3))\n",
    "\n",
    "for i, ax in enumerate(axs):\n",
    "    (ax.imshow(x_train_fmnist[i].reshape(28,28), cmap='Greys'), ax.set_xticks([]), ax.set_yticks([]))"
   ]
  },
  {
   "cell_type": "code",
   "execution_count": 14,
   "id": "864bf6be",
   "metadata": {},
   "outputs": [],
   "source": [
    "ood_samples = x_train_fmnist[:n_new_obs]\n",
    "predictions = model.predict(ood_samples)\n",
    "predicted_classes_ood = np.argmax(predictions, axis=-1)\n",
    "confidences = np.max(predictions, axis=-1)\n",
    "# Gather the predicted classes for later use:\n",
    "pred_classes_list = [predicted_classes, predicted_classes_ood]"
   ]
  },
  {
   "cell_type": "markdown",
   "id": "a7e377d9",
   "metadata": {},
   "source": [
    "Let's plot the confidences per class and overlay them with the prediction (red dot). "
   ]
  },
  {
   "cell_type": "code",
   "execution_count": 15,
   "id": "e9f92694",
   "metadata": {},
   "outputs": [],
   "source": [
    "# print('Standard Confidence:\\nPredicted classes: ', predicted_classes)\n",
    "# plt.imshow(predictions)\n",
    "# plt.scatter(x=predicted_classes, y=list(range(len(predicted_classes))), color='red', s=40)\n",
    "# plt.colorbar()\n",
    "# print('x-axis: class labels,\\ny-axis: input samples\\nred dots: predicted class')"
   ]
  },
  {
   "cell_type": "markdown",
   "id": "0d4b8050",
   "metadata": {},
   "source": [
    "As we can see, our network is correct most of the time (unless one has been very unlucky with the random seed used for training) and is quite confident in its predictions."
   ]
  },
  {
   "cell_type": "markdown",
   "id": "2ce6a3e5",
   "metadata": {},
   "source": [
    "Now, what's the _Topological uncertainty_ of these new observations? That is, what is the distance between the persistence diagrams (of the activation graphs) of these new observations and the barycenters of the corresponding class?"
   ]
  },
  {
   "cell_type": "code",
   "execution_count": 16,
   "id": "91e9835a",
   "metadata": {},
   "outputs": [
    {
     "name": "stdout",
     "output_type": "stream",
     "text": [
      "WARNING:tensorflow:5 out of the last 24 calls to <function Model.make_predict_function.<locals>.predict_function at 0x7f6f5001a9d0> triggered tf.function retracing. Tracing is expensive and the excessive number of tracings could be due to (1) creating @tf.function repeatedly in a loop, (2) passing tensors with different shapes, (3) passing Python objects instead of tensors. For (1), please define your @tf.function outside of the loop. For (2), @tf.function has experimental_relax_shapes=True option that relaxes argument shapes that can avoid unnecessary retracing. For (3), please refer to https://www.tensorflow.org/guide/function#controlling_retracing and https://www.tensorflow.org/api_docs/python/tf/function for  more details.\n"
     ]
    },
    {
     "data": {
      "text/plain": [
       "array([0.02842309, 0.04313748, 0.03362607, 0.04314293, 0.03413767,\n",
       "       0.01323962, 0.03737536, 0.02062145, 0.0400699 , 0.02403882,\n",
       "       0.0242465 ])"
      ]
     },
     "execution_count": 16,
     "metadata": {},
     "output_type": "execute_result"
    }
   ],
   "source": [
    "# First, we compute the diagram of this new observation\n",
    "utda.topological_uncertainty(model, new_obs, all_barycenters, layers_id=layers_id, all_classes=False)"
   ]
  },
  {
   "cell_type": "markdown",
   "id": "94b85247",
   "metadata": {},
   "source": [
    "Let's look at the TU w.r.t. all classes in case of new samples as well as for new OOD samples (Fashion-MNIST)"
   ]
  },
  {
   "cell_type": "code",
   "execution_count": 17,
   "id": "d04164e0",
   "metadata": {},
   "outputs": [
    {
     "name": "stdout",
     "output_type": "stream",
     "text": [
      "Topological Uncertainty:\n",
      "************************\n",
      "Predicted classes:  [7 2 1 0 4 1 4 9 6 9 0] \n",
      "Predicted classes OOD:  [2 8 1 1 3 6 2 0 5 2 3]\n",
      "WARNING:tensorflow:5 out of the last 11 calls to <function Model.make_predict_function.<locals>.predict_function at 0x7f6f5001ae50> triggered tf.function retracing. Tracing is expensive and the excessive number of tracings could be due to (1) creating @tf.function repeatedly in a loop, (2) passing tensors with different shapes, (3) passing Python objects instead of tensors. For (1), please define your @tf.function outside of the loop. For (2), @tf.function has experimental_relax_shapes=True option that relaxes argument shapes that can avoid unnecessary retracing. For (3), please refer to https://www.tensorflow.org/guide/function#controlling_retracing and https://www.tensorflow.org/api_docs/python/tf/function for  more details.\n",
      "x-axis: class labels (10)\n",
      "y-axis: input samples (11)\n",
      "red dots: predicted (and correct in case of MNIST) class\n"
     ]
    },
    {
     "data": {
      "image/png": "[encoded data removed]",
      "text/plain": [
       "<Figure size 864x432 with 4 Axes>"
      ]
     },
     "metadata": {
      "needs_background": "light"
     },
     "output_type": "display_data"
    }
   ],
   "source": [
    "print('Topological Uncertainty:\\n************************\\nPredicted classes: ', predicted_classes, '\\nPredicted classes OOD: ', predicted_classes_ood)\n",
    "TU_pred_class = utda.topological_uncertainty(model, new_obs, all_barycenters, layers_id=layers_id, all_classes=False)\n",
    "TU = utda.topological_uncertainty(model, new_obs, all_barycenters, layers_id=layers_id, all_classes=True)\n",
    "## For OOD samples:\n",
    "TU_ood_pred_class = utda.topological_uncertainty(model, ood_samples, all_barycenters, layers_id=layers_id, all_classes=False)\n",
    "TU_ood = utda.topological_uncertainty(model, ood_samples, all_barycenters, layers_id=layers_id, all_classes=True)\n",
    "\n",
    "## Plot:\n",
    "titles = ['TU for MNIST', 'TU for OOD (FMNIST)']\n",
    "\n",
    "fig, axs = plt.subplots(1, 2, figsize=(12, 6))\n",
    "for ix, TU_v in enumerate([TU, TU_ood]):\n",
    "    im = axs[ix].imshow(TU_v)\n",
    "    axs[ix].scatter(x=pred_classes_list[ix], y=list(range(n_new_obs)), color='red', s=60)\n",
    "    axs[ix].set_title(titles[ix])\n",
    "    plt.colorbar(im, ax=axs[ix])\n",
    "\n",
    "print('x-axis: class labels (10)\\ny-axis: input samples (11)\\nred dots: predicted (and correct in case of MNIST) class')"
   ]
  },
  {
   "cell_type": "code",
   "execution_count": 18,
   "id": "b981db1a",
   "metadata": {},
   "outputs": [
    {
     "name": "stdout",
     "output_type": "stream",
     "text": [
      "[-0.10362138 -0.14074888  0.03262397 -0.07463952 -0.05083894 -0.04770431\n",
      " -0.12443478 -0.17674202  0.0104562  -0.13627459 -0.12029236]\n",
      "[-9.53182343e-05 -1.18731731e-04  3.70679984e-04 -3.40809199e-04\n",
      "  8.30721047e-06 -1.28388411e-04 -2.78096387e-05 -2.86586240e-04\n",
      " -2.81047388e-04 -3.76044249e-04 -3.73982083e-04]\n"
     ]
    }
   ],
   "source": [
    "print(np.mean(TU, axis=1) - np.mean(TU_ood, axis=1))\n",
    "print(np.var(TU, axis=1) - np.var(TU_ood, axis=1))"
   ]
  },
  {
   "cell_type": "code",
   "execution_count": 19,
   "id": "3850a82a",
   "metadata": {},
   "outputs": [],
   "source": [
    "# utda.topological_difference(model, new_obs, all_mean_adjacency_matrices, layers_id=layers_id, all_classes=False)\n",
    "# all_mean_adjacency_matrices[1].shape"
   ]
  },
  {
   "cell_type": "code",
   "execution_count": 34,
   "id": "15e93d2b",
   "metadata": {},
   "outputs": [
    {
     "name": "stdout",
     "output_type": "stream",
     "text": [
      "Topological Difference:\n",
      "***********************\n",
      "Predicted classes:  [7 2 1 0 4 1 4 9 6 9 0]\n",
      "x-axis: class labels (10)\n",
      "y-axis: input samples (11)\n",
      "red dots: predicted (and correct in case of MNIST) class\n"
     ]
    },
    {
     "data": {
      "image/png": "[encoded data removed]",
      "text/plain": [
       "<Figure size 864x432 with 4 Axes>"
      ]
     },
     "metadata": {
      "needs_background": "light"
     },
     "output_type": "display_data"
    }
   ],
   "source": [
    "dimension = 0\n",
    "print('Topological Difference:\\n***********************\\nPredicted classes: ', predicted_classes)\n",
    "TD_pred_class = utda.topological_difference(model, new_obs, all_mean_adjacency_matrices, layers_id=layers_id, all_classes=False, absolute_value=True, dim=dimension)\n",
    "TD , diags,_, matrix_diff= utda.topological_difference(model, new_obs, all_mean_adjacency_matrices, layers_id=layers_id, all_classes=True, absolute_value=True, dim=dimension)\n",
    "## For OOD samples:\n",
    "TD_ood_pred_class = utda.topological_difference(model, ood_samples, all_mean_adjacency_matrices, layers_id=layers_id, all_classes=False, absolute_value=True, dim=dimension)\n",
    "TD_ood, _,_, matrix_diff_ood = utda.topological_difference(model, ood_samples, all_mean_adjacency_matrices, layers_id=layers_id, all_classes=True, absolute_value=True, dim=dimension)\n",
    "\n",
    "## Plot:\n",
    "titles = ['TD for MNIST', 'TD for OOD (FMNIST)']\n",
    "\n",
    "fig, axs = plt.subplots(1, 2, figsize=(12, 6))\n",
    "for ix, TD_v in enumerate([TD, TD_ood]):\n",
    "    im = axs[ix].imshow(TD_v)\n",
    "    axs[ix].scatter(x=pred_classes_list[ix], y=list(range(n_new_obs)), color='red', s=60)\n",
    "    axs[ix].set_title(titles[ix])\n",
    "    plt.colorbar(im, ax=axs[ix])\n",
    "\n",
    "print('x-axis: class labels (10)\\ny-axis: input samples (11)\\nred dots: predicted (and correct in case of MNIST) class')"
   ]
  },
  {
   "cell_type": "code",
   "execution_count": 21,
   "id": "cd37e801",
   "metadata": {},
   "outputs": [],
   "source": [
    "\n",
    "# prune_val = np.max(np.array(matrix_diff)) - np.min(np.array(matrix_diff))\n",
    "# np.array(diags, dtype=object)"
   ]
  },
  {
   "cell_type": "code",
   "execution_count": 22,
   "id": "15a8d946",
   "metadata": {},
   "outputs": [],
   "source": [
    "# TD_pred_class"
   ]
  },
  {
   "cell_type": "code",
   "execution_count": 23,
   "id": "a07b1cdb",
   "metadata": {},
   "outputs": [
    {
     "name": "stdout",
     "output_type": "stream",
     "text": [
      "[-0.01475408 -0.0105002         -inf -0.0064331  -0.00591519 -0.00820575\n",
      " -0.01751528 -0.02050188  0.0071898  -0.00989158 -0.01223282]\n",
      "[ 2.43247866e-06  2.06853900e-06             nan  5.04092049e-06\n",
      "  7.93936632e-06  4.37183109e-06 -4.22106177e-06 -7.42826108e-06\n",
      "  5.45995026e-06  8.78869416e-06  1.74565114e-06]\n"
     ]
    },
    {
     "name": "stderr",
     "output_type": "stream",
     "text": [
      "/home/felix/.cache/pypoetry/virtualenvs/topologicaluncertainty-FuTyNJF2-py3.9/lib/python3.9/site-packages/numpy/core/_methods.py:232: RuntimeWarning: invalid value encountered in subtract\n",
      "  x = asanyarray(arr - arrmean)\n"
     ]
    }
   ],
   "source": [
    "print(np.mean(TD, axis=1) - np.mean(TD_ood, axis=1))\n",
    "print(np.var(TD, axis=1) - np.var(TD_ood, axis=1))"
   ]
  },
  {
   "cell_type": "code",
   "execution_count": 24,
   "id": "54a9f991",
   "metadata": {},
   "outputs": [],
   "source": [
    "#np.max(np.abs(np.array(diags)))\n",
    "# print('Max value of adjacency matrices:', np.max(np.array(adjacency_matrices)))\n",
    "# np.array(adjacency_matrices).shape"
   ]
  },
  {
   "cell_type": "code",
   "execution_count": 25,
   "id": "842fb9ba",
   "metadata": {},
   "outputs": [],
   "source": [
    "# print(np.array(all_mean_adjacency_matrices[1][0]).shape)\n",
    "# (adjacency_matrices[2][0] - all_mean_adjacency_matrices[1][0]).shape"
   ]
  },
  {
   "cell_type": "markdown",
   "id": "266b4bd4",
   "metadata": {},
   "source": [
    "Let's look at what happens if we take the norm of the differences of the adjacency matrices directly, without computing their persistence diagrams:"
   ]
  },
  {
   "cell_type": "code",
   "execution_count": 26,
   "id": "ff027d8e",
   "metadata": {},
   "outputs": [
    {
     "name": "stdout",
     "output_type": "stream",
     "text": [
      "Norms of differences of the adjacency matrices:\n",
      "***********************************************\n",
      "Predicted classes:  [7 2 1 0 4 1 4 9 6 9 0]\n",
      "x-axis: class labels (10)\n",
      "y-axis: input samples (11)\n",
      "red dots: predicted (and correct in case of MNIST) class\n"
     ]
    },
    {
     "data": {
      "image/png": "[encoded data removed]",
      "text/plain": [
       "<Figure size 864x432 with 4 Axes>"
      ]
     },
     "metadata": {
      "needs_background": "light"
     },
     "output_type": "display_data"
    }
   ],
   "source": [
    "print('Norms of differences of the adjacency matrices:\\n***********************************************\\nPredicted classes: ', predicted_classes)\n",
    "from numpy import linalg as LA\n",
    "MD = np.transpose(np.array(matrix_diff)).squeeze()\n",
    "MD_ood = np.transpose(np.array(matrix_diff_ood)).squeeze()\n",
    "#print(MD.shape)\n",
    "#np.max(MD)\n",
    "MD_norms = LA.norm(MD, axis=(0,1))\n",
    "MD_norms_ood = LA.norm(MD_ood, axis=(0,1))\n",
    "\n",
    "## Plot:\n",
    "titles = ['MD norms for MNIST', 'MD norms for OOD (FMNIST)']\n",
    "\n",
    "fig, axs = plt.subplots(1, 2, figsize=(12, 6))\n",
    "for ix, MD_v in enumerate([MD_norms, MD_norms_ood]):\n",
    "    im = axs[ix].imshow(MD_v)\n",
    "    axs[ix].scatter(x=pred_classes_list[ix], y=list(range(n_new_obs)), color='red', s=60)\n",
    "    axs[ix].set_title(titles[ix])\n",
    "    plt.colorbar(im, ax=axs[ix])\n",
    "\n",
    "print('x-axis: class labels (10)\\ny-axis: input samples (11)\\nred dots: predicted (and correct in case of MNIST) class')"
   ]
  },
  {
   "cell_type": "code",
   "execution_count": 27,
   "id": "286789da",
   "metadata": {},
   "outputs": [],
   "source": [
    "# print(np.array(diags).shape)\n",
    "# np.max(np.array(diags))"
   ]
  },
  {
   "cell_type": "code",
   "execution_count": 28,
   "id": "c2e36fc3",
   "metadata": {},
   "outputs": [
    {
     "data": {
      "image/png": "[encoded data removed]",
      "text/plain": [
       "<Figure size 1440x360 with 8 Axes>"
      ]
     },
     "metadata": {
      "needs_background": "light"
     },
     "output_type": "display_data"
    }
   ],
   "source": [
    "# Let's see the effect of the choice of 'p' in [1,+inf].\n",
    "p_s = [1., 2., 3., np.inf]\n",
    "fig, axs = plt.subplots(1, len(p_s), figsize=(20, 5))\n",
    "for ix,p in enumerate(p_s):\n",
    "    TD, diags, _, _ = utda.topological_difference(model, new_obs, all_mean_adjacency_matrices, layers_id=layers_id, p=p, all_classes=True, absolute_value=True)\n",
    "    im = axs[ix].imshow(TD)\n",
    "    axs[ix].scatter(x=predicted_classes, y=list(range(len(predicted_classes))), color='red', s=40)\n",
    "    axs[ix].set_title(f'TD for p = {p}')\n",
    "    plt.colorbar(im, ax=axs[ix])"
   ]
  },
  {
   "cell_type": "code",
   "execution_count": 29,
   "id": "33fc8d3a",
   "metadata": {},
   "outputs": [
    {
     "data": {
      "text/plain": [
       "(10, 1, 64, 16)"
      ]
     },
     "execution_count": 29,
     "metadata": {},
     "output_type": "execute_result"
    }
   ],
   "source": [
    "np.array(all_mean_adjacency_matrices).shape"
   ]
  },
  {
   "cell_type": "code",
   "execution_count": 30,
   "id": "0238d770",
   "metadata": {},
   "outputs": [
    {
     "name": "stdout",
     "output_type": "stream",
     "text": [
      "TU cumulative:\n",
      " [0.3433013  0.48102008 0.55760008 0.16347618 0.37535565 0.35254589\n",
      " 0.39973423 0.25703215 0.33527998 0.1953316  0.25966719]\n",
      "TD cumulative:\n",
      " [0.41678848 0.75499398 0.39172924 0.50825784 0.59080967 0.49062859\n",
      " 0.357306   0.49620523 0.65339023 0.49090248 0.53774296]\n"
     ]
    }
   ],
   "source": [
    "# We now define cumulative version of TU, where we sum up the TU w.r.t. each non-predicted class and subtract the TU w.r.t. the predicted class.\n",
    "\n",
    "TU[list(range(len(predicted_classes))), predicted_classes] *= -1\n",
    "# TU *= -1\n",
    "TU_cumulative = np.sum(TU, axis=1)\n",
    "\n",
    "\n",
    "#We do the same for TD:\n",
    "TD[list(range(len(predicted_classes))), predicted_classes] *= -1\n",
    "# TD *= -1\n",
    "TD_cumulative = np.sum(TD, axis=1)\n",
    "print('TU cumulative:\\n', TU_cumulative)\n",
    "print('TD cumulative:\\n', TD_cumulative)"
   ]
  },
  {
   "cell_type": "code",
   "execution_count": 31,
   "id": "f482f134",
   "metadata": {},
   "outputs": [],
   "source": [
    "# print('Standard Confidence:\\nPredicted classes: ', predicted_classes)\n",
    "# plt.imshow(predictions)\n",
    "# plt.scatter(x=predicted_classes, y=list(range(len(predicted_classes))), color='red', s=40)\n",
    "# plt.colorbar()\n",
    "# print('x-axis: class labels,\\ny-axis: input samples\\nred dots: predicted class')"
   ]
  },
  {
   "cell_type": "code",
   "execution_count": 32,
   "id": "748402aa",
   "metadata": {},
   "outputs": [],
   "source": [
    "# # We now define cumulative version of TU, where we sum up the TU w.r.t. each non-predicted class and subtract the TU w.r.t. the predicted class.\n",
    "\n",
    "# TU_ood[list(range(len(predicted_classes))), predicted_classes] *= -1\n",
    "# # TU_ood *= -1\n",
    "# TU_ood_cumulative = np.sum(TU_ood, axis=1)\n",
    "\n",
    "\n",
    "# #We do the same for TD:\n",
    "# TD_ood[list(range(len(predicted_classes))), predicted_classes] *= -1\n",
    "# # TD_ood *= -1\n",
    "# TD_ood_cumulative = np.sum(TD_ood, axis=1)\n",
    "\n",
    "# print('TU:\\n', TU_pred_class)\n",
    "# print('TU ood:\\n', TU_ood_pred_class)\n",
    "# print('TU cumulative:\\n', TU_cumulative)\n",
    "# print('TU ood cumulative:\\n', TU_ood_cumulative)\n",
    "# print('TD:\\n', TD_pred_class)\n",
    "# print('TD ood:\\n', TD_ood_pred_class)\n",
    "# print('TD cumulative:\\n', TD_cumulative)\n",
    "# print('TD ood cumulative:\\n', TD_ood_cumulative)"
   ]
  },
  {
   "cell_type": "code",
   "execution_count": 33,
   "id": "ec4b33e4",
   "metadata": {},
   "outputs": [],
   "source": [
    "# fig, axs = plt.subplots(2, 3, figsize=(24, 6))\n",
    "# x = list(range(len(TU_pred_class)))\n",
    "\n",
    "# axs[0,0].scatter(x, TU_pred_class, color='blue', alpha=0.75, label='TU')\n",
    "# axs[0,1].scatter(x, TU_cumulative, color='blue', alpha=0.75, label='TU cumulative')\n",
    "# # axs[0,0].scatter(x, TU_ood_pred_class, color='red', alpha=0.75, label='TU ood')\n",
    "# # axs[0,0].scatter(x, TU_ood_cumulative, color='black', alpha=0.75, label='TU ood cumulative')\n",
    "\n",
    "# axs[0,0].scatter(x, TD_pred_class, color='green', alpha=0.75, label='TD')\n",
    "# axs[0,1].scatter(x, TD_cumulative, color='green', alpha=0.75, label='TD cumulative')\n",
    "# # axs[0,1].scatter(x, TD_ood_pred_class, color='red', alpha=0.75, label='TD ood')\n",
    "# # axs[0,1].scatter(x, TD_ood_cumulative, color='black', alpha=0.75, label='TD ood cumulative')\n",
    "\n",
    "# # axs[1,0].scatter(x, TU_pred_class, color='blue', alpha=0.75, label='TU')\n",
    "# # axs[1,0].scatter(x, TU_cumulative, color='green', alpha=0.75, label='TU cumulative')\n",
    "# axs[1,0].scatter(x, TU_ood_pred_class, color='red', alpha=0.75, label='TU ood')\n",
    "# axs[1,1].scatter(x, TU_ood_cumulative, color='red', alpha=0.75, label='TU ood cumulative')\n",
    "\n",
    "# # axs[1,1].scatter(x, TD_pred_class, color='blue', alpha=0.75, label='TD')\n",
    "# # axs[1,1].scatter(x, TD_cumulative, color='green', alpha=0.75, label='TD cumulative')\n",
    "# axs[1,0].scatter(x, TD_ood_pred_class, color='black', alpha=0.75, label='TD ood')\n",
    "# axs[1,1].scatter(x, TD_ood_cumulative, color='black', alpha=0.75, label='TD ood cumulative')\n",
    "\n",
    "# axs[0,2].scatter(x, TU_ood_pred_class - TU_pred_class, color='black', alpha=0.75, label='TU ood - TU')\n",
    "# axs[0,2].scatter(x, TD_ood_pred_class - TD_pred_class, color='red', alpha=0.75, label='TD ood - TD')\n",
    "\n",
    "# axs[1,2].scatter(x, TU_ood_cumulative - TU_cumulative, color='black', alpha=0.75, label='TU ood cum - TU cum')\n",
    "# axs[1,2].scatter(x, TD_ood_cumulative - TD_cumulative, color='red', alpha=0.75, label='TD ood cum - TD cum')\n",
    "\n",
    "# axs[0,0].legend(fontsize=12)\n",
    "# axs[0,1].legend(fontsize=12)\n",
    "# axs[1,0].legend(fontsize=12)\n",
    "# axs[1,1].legend(fontsize=12)\n",
    "# axs[0,2].legend(fontsize=12)\n",
    "# axs[1,2].legend(fontsize=12)\n",
    "\n",
    "# plt.show()"
   ]
  }
 ],
 "metadata": {
  "kernelspec": {
   "display_name": "Python 3 (ipykernel)",
   "language": "python",
   "name": "python3"
  },
  "language_info": {
   "codemirror_mode": {
    "name": "ipython",
    "version": 3
   },
   "file_extension": ".py",
   "mimetype": "text/x-python",
   "name": "python",
   "nbconvert_exporter": "python",
   "pygments_lexer": "ipython3",
   "version": "3.9.7"
  }
 },
 "nbformat": 4,
 "nbformat_minor": 5
}
